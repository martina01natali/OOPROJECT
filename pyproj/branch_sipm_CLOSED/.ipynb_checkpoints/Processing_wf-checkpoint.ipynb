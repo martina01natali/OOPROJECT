{
 "cells": [
  {
   "cell_type": "markdown",
   "id": "bdb8993e-6d76-48ee-8e14-df927e9f1e73",
   "metadata": {},
   "source": [
    "# Processing of waveforms\n",
    "\n",
    "**GOAL**\n",
    "- count all events\n",
    "- make plot amplitude VS time to discriminate between 1 phe signals (\"real counts\" and afterpulses) and 2 phe signals (crosstalks)\n",
    "- evaluate % of afterpulses and crosstalks wrt total\n",
    "\n",
    "Notes: time axis has a physical minimum due to width of waveform\n",
    "\n",
    "**Procedure**\n",
    "- csv files of waveforms and timestamps combined\n",
    "- csv files, sliced into single waveforms\n",
    "- find minima (absolute and relative), plot them, count them (count single points of absolute minimum) and save their timestamps and amplitude\n",
    "- from amplitude value you understand if a peak is noise (crosstalk, afterpulse)\n",
    "- get amplitudes and timestamps of each minimum\n",
    "\n",
    "*Afterpulse*: happens tipically at 0.5 $\\mu$s after a real signal, and has an amplitude almost equal to 1 phe; threshold for considering an event an afterpulse of the event before is 6 $\\mu$s.  \n",
    "*Crosstalk*: single peak of amplitude 2 phe\n"
   ]
  },
  {
   "cell_type": "code",
   "execution_count": 1,
   "id": "c8299e13-4035-401d-bfc3-b5772f1a5316",
   "metadata": {},
   "outputs": [],
   "source": [
    "import pandas as pd\n",
    "from scipy.signal import argrelextrema\n",
    "    # Finds the minima of any user-defined function\n",
    "import numpy\n",
    "import matplotlib"
   ]
  },
  {
   "cell_type": "code",
   "execution_count": 56,
   "id": "8e78e292-3791-4c71-b2aa-fbc884a72f31",
   "metadata": {},
   "outputs": [
    {
     "data": {
      "text/html": [
       "<div>\n",
       "<style scoped>\n",
       "    .dataframe tbody tr th:only-of-type {\n",
       "        vertical-align: middle;\n",
       "    }\n",
       "\n",
       "    .dataframe tbody tr th {\n",
       "        vertical-align: top;\n",
       "    }\n",
       "\n",
       "    .dataframe thead th {\n",
       "        text-align: right;\n",
       "    }\n",
       "</style>\n",
       "<table border=\"1\" class=\"dataframe\">\n",
       "  <thead>\n",
       "    <tr style=\"text-align: right;\">\n",
       "      <th></th>\n",
       "      <th>Event</th>\n",
       "      <th>Delta t</th>\n",
       "    </tr>\n",
       "  </thead>\n",
       "  <tbody>\n",
       "    <tr>\n",
       "      <th>0</th>\n",
       "      <td>0</td>\n",
       "      <td>0.000000</td>\n",
       "    </tr>\n",
       "    <tr>\n",
       "      <th>1</th>\n",
       "      <td>1</td>\n",
       "      <td>0.015416</td>\n",
       "    </tr>\n",
       "    <tr>\n",
       "      <th>2</th>\n",
       "      <td>2</td>\n",
       "      <td>0.000355</td>\n",
       "    </tr>\n",
       "    <tr>\n",
       "      <th>3</th>\n",
       "      <td>3</td>\n",
       "      <td>0.004935</td>\n",
       "    </tr>\n",
       "    <tr>\n",
       "      <th>4</th>\n",
       "      <td>4</td>\n",
       "      <td>0.010274</td>\n",
       "    </tr>\n",
       "  </tbody>\n",
       "</table>\n",
       "</div>"
      ],
      "text/plain": [
       "   Event   Delta t\n",
       "0      0  0.000000\n",
       "1      1  0.015416\n",
       "2      2  0.000355\n",
       "3      3  0.004935\n",
       "4      4  0.010274"
      ]
     },
     "execution_count": 56,
     "metadata": {},
     "output_type": "execute_result"
    }
   ],
   "source": [
    "timestamp_table = pd.read_csv('HPKR00030_2cicli_OV3_time.csv', header = 0)\n",
    "timestamp_table.rename(columns={'X: (s)':'Event', 'Y: (Hits)':'Delta t'}, inplace=True)\n",
    "timestamp_table.head()"
   ]
  },
  {
   "cell_type": "code",
   "execution_count": 57,
   "id": "fc9f7e1a-ae9e-4691-9e7e-911456810c7d",
   "metadata": {},
   "outputs": [],
   "source": [
    "N_of_events = len(timestamp_table) # Corresponds to the \"FastFrame Count\" written in the header of the wf files"
   ]
  },
  {
   "cell_type": "code",
   "execution_count": 58,
   "id": "7dea39c7-d0c4-49ef-a843-2a0a3b59a356",
   "metadata": {},
   "outputs": [],
   "source": [
    "wf_data_point = 0\n",
    "line_counter = 0\n",
    "n_line = -1\n",
    "waveform_file = open('HPKR00030_2cicli_OV3_wf.csv') # Just opened to make automatic search of the header"
   ]
  },
  {
   "cell_type": "code",
   "execution_count": 59,
   "id": "0493f444-7b00-4c16-b26d-1491886ba2fc",
   "metadata": {},
   "outputs": [],
   "source": [
    "# Routine to count number of lines of header\n",
    "\n",
    "while n_line == -1:\n",
    "    line = waveform_file.readline()\n",
    "    if line.startswith(\"Record Length\"): wf_data_point = int(line.split(',')[-1])\n",
    "    if line.startswith(\"TIME\"): n_line = line_counter\n",
    "    line_counter += 1\n",
    "    if line_counter == 100: print(\"ERROR\")"
   ]
  },
  {
   "cell_type": "code",
   "execution_count": 6,
   "id": "46295192-8ac9-45a1-9966-638d8778bb84",
   "metadata": {},
   "outputs": [
    {
     "data": {
      "text/plain": [
       "6250"
      ]
     },
     "execution_count": 6,
     "metadata": {},
     "output_type": "execute_result"
    }
   ],
   "source": [
    "wf_data_point"
   ]
  },
  {
   "cell_type": "code",
   "execution_count": 7,
   "id": "3c1a838b-02d6-4443-916a-dae229cf0539",
   "metadata": {},
   "outputs": [
    {
     "data": {
      "text/plain": [
       "9"
      ]
     },
     "execution_count": 7,
     "metadata": {},
     "output_type": "execute_result"
    }
   ],
   "source": [
    "n_line"
   ]
  },
  {
   "cell_type": "code",
   "execution_count": 61,
   "id": "706f8a16-2dd5-410b-b5c9-371c1cd3238f",
   "metadata": {},
   "outputs": [
    {
     "ename": "MemoryError",
     "evalue": "Unable to allocate 2.00 MiB for an array with shape (262144,) and data type int64",
     "output_type": "error",
     "traceback": [
      "\u001b[1;31m---------------------------------------------------------------------------\u001b[0m",
      "\u001b[1;31mMemoryError\u001b[0m                               Traceback (most recent call last)",
      "\u001b[1;32m<ipython-input-61-328558b13d15>\u001b[0m in \u001b[0;36m<module>\u001b[1;34m\u001b[0m\n\u001b[1;32m----> 1\u001b[1;33m \u001b[0mwaveform_table\u001b[0m \u001b[1;33m=\u001b[0m \u001b[0mpd\u001b[0m\u001b[1;33m.\u001b[0m\u001b[0mread_csv\u001b[0m\u001b[1;33m(\u001b[0m\u001b[1;34m'HPKR00030_2cicli_OV3_wf.csv'\u001b[0m\u001b[1;33m,\u001b[0m \u001b[0mheader\u001b[0m\u001b[1;33m=\u001b[0m\u001b[0mn_line\u001b[0m\u001b[1;33m-\u001b[0m\u001b[1;36m1\u001b[0m\u001b[1;33m)\u001b[0m\u001b[1;33m\u001b[0m\u001b[1;33m\u001b[0m\u001b[0m\n\u001b[0m",
      "\u001b[1;32mc:\\python38\\lib\\site-packages\\pandas\\io\\parsers.py\u001b[0m in \u001b[0;36mread_csv\u001b[1;34m(filepath_or_buffer, sep, delimiter, header, names, index_col, usecols, squeeze, prefix, mangle_dupe_cols, dtype, engine, converters, true_values, false_values, skipinitialspace, skiprows, skipfooter, nrows, na_values, keep_default_na, na_filter, verbose, skip_blank_lines, parse_dates, infer_datetime_format, keep_date_col, date_parser, dayfirst, cache_dates, iterator, chunksize, compression, thousands, decimal, lineterminator, quotechar, quoting, doublequote, escapechar, comment, encoding, dialect, error_bad_lines, warn_bad_lines, delim_whitespace, low_memory, memory_map, float_precision, storage_options)\u001b[0m\n\u001b[0;32m    608\u001b[0m     \u001b[0mkwds\u001b[0m\u001b[1;33m.\u001b[0m\u001b[0mupdate\u001b[0m\u001b[1;33m(\u001b[0m\u001b[0mkwds_defaults\u001b[0m\u001b[1;33m)\u001b[0m\u001b[1;33m\u001b[0m\u001b[1;33m\u001b[0m\u001b[0m\n\u001b[0;32m    609\u001b[0m \u001b[1;33m\u001b[0m\u001b[0m\n\u001b[1;32m--> 610\u001b[1;33m     \u001b[1;32mreturn\u001b[0m \u001b[0m_read\u001b[0m\u001b[1;33m(\u001b[0m\u001b[0mfilepath_or_buffer\u001b[0m\u001b[1;33m,\u001b[0m \u001b[0mkwds\u001b[0m\u001b[1;33m)\u001b[0m\u001b[1;33m\u001b[0m\u001b[1;33m\u001b[0m\u001b[0m\n\u001b[0m\u001b[0;32m    611\u001b[0m \u001b[1;33m\u001b[0m\u001b[0m\n\u001b[0;32m    612\u001b[0m \u001b[1;33m\u001b[0m\u001b[0m\n",
      "\u001b[1;32mc:\\python38\\lib\\site-packages\\pandas\\io\\parsers.py\u001b[0m in \u001b[0;36m_read\u001b[1;34m(filepath_or_buffer, kwds)\u001b[0m\n\u001b[0;32m    466\u001b[0m \u001b[1;33m\u001b[0m\u001b[0m\n\u001b[0;32m    467\u001b[0m     \u001b[1;32mwith\u001b[0m \u001b[0mparser\u001b[0m\u001b[1;33m:\u001b[0m\u001b[1;33m\u001b[0m\u001b[1;33m\u001b[0m\u001b[0m\n\u001b[1;32m--> 468\u001b[1;33m         \u001b[1;32mreturn\u001b[0m \u001b[0mparser\u001b[0m\u001b[1;33m.\u001b[0m\u001b[0mread\u001b[0m\u001b[1;33m(\u001b[0m\u001b[0mnrows\u001b[0m\u001b[1;33m)\u001b[0m\u001b[1;33m\u001b[0m\u001b[1;33m\u001b[0m\u001b[0m\n\u001b[0m\u001b[0;32m    469\u001b[0m \u001b[1;33m\u001b[0m\u001b[0m\n\u001b[0;32m    470\u001b[0m \u001b[1;33m\u001b[0m\u001b[0m\n",
      "\u001b[1;32mc:\\python38\\lib\\site-packages\\pandas\\io\\parsers.py\u001b[0m in \u001b[0;36mread\u001b[1;34m(self, nrows)\u001b[0m\n\u001b[0;32m   1055\u001b[0m     \u001b[1;32mdef\u001b[0m \u001b[0mread\u001b[0m\u001b[1;33m(\u001b[0m\u001b[0mself\u001b[0m\u001b[1;33m,\u001b[0m \u001b[0mnrows\u001b[0m\u001b[1;33m=\u001b[0m\u001b[1;32mNone\u001b[0m\u001b[1;33m)\u001b[0m\u001b[1;33m:\u001b[0m\u001b[1;33m\u001b[0m\u001b[1;33m\u001b[0m\u001b[0m\n\u001b[0;32m   1056\u001b[0m         \u001b[0mnrows\u001b[0m \u001b[1;33m=\u001b[0m \u001b[0mvalidate_integer\u001b[0m\u001b[1;33m(\u001b[0m\u001b[1;34m\"nrows\"\u001b[0m\u001b[1;33m,\u001b[0m \u001b[0mnrows\u001b[0m\u001b[1;33m)\u001b[0m\u001b[1;33m\u001b[0m\u001b[1;33m\u001b[0m\u001b[0m\n\u001b[1;32m-> 1057\u001b[1;33m         \u001b[0mindex\u001b[0m\u001b[1;33m,\u001b[0m \u001b[0mcolumns\u001b[0m\u001b[1;33m,\u001b[0m \u001b[0mcol_dict\u001b[0m \u001b[1;33m=\u001b[0m \u001b[0mself\u001b[0m\u001b[1;33m.\u001b[0m\u001b[0m_engine\u001b[0m\u001b[1;33m.\u001b[0m\u001b[0mread\u001b[0m\u001b[1;33m(\u001b[0m\u001b[0mnrows\u001b[0m\u001b[1;33m)\u001b[0m\u001b[1;33m\u001b[0m\u001b[1;33m\u001b[0m\u001b[0m\n\u001b[0m\u001b[0;32m   1058\u001b[0m \u001b[1;33m\u001b[0m\u001b[0m\n\u001b[0;32m   1059\u001b[0m         \u001b[1;32mif\u001b[0m \u001b[0mindex\u001b[0m \u001b[1;32mis\u001b[0m \u001b[1;32mNone\u001b[0m\u001b[1;33m:\u001b[0m\u001b[1;33m\u001b[0m\u001b[1;33m\u001b[0m\u001b[0m\n",
      "\u001b[1;32mc:\\python38\\lib\\site-packages\\pandas\\io\\parsers.py\u001b[0m in \u001b[0;36mread\u001b[1;34m(self, nrows)\u001b[0m\n\u001b[0;32m   2059\u001b[0m     \u001b[1;32mdef\u001b[0m \u001b[0mread\u001b[0m\u001b[1;33m(\u001b[0m\u001b[0mself\u001b[0m\u001b[1;33m,\u001b[0m \u001b[0mnrows\u001b[0m\u001b[1;33m=\u001b[0m\u001b[1;32mNone\u001b[0m\u001b[1;33m)\u001b[0m\u001b[1;33m:\u001b[0m\u001b[1;33m\u001b[0m\u001b[1;33m\u001b[0m\u001b[0m\n\u001b[0;32m   2060\u001b[0m         \u001b[1;32mtry\u001b[0m\u001b[1;33m:\u001b[0m\u001b[1;33m\u001b[0m\u001b[1;33m\u001b[0m\u001b[0m\n\u001b[1;32m-> 2061\u001b[1;33m             \u001b[0mdata\u001b[0m \u001b[1;33m=\u001b[0m \u001b[0mself\u001b[0m\u001b[1;33m.\u001b[0m\u001b[0m_reader\u001b[0m\u001b[1;33m.\u001b[0m\u001b[0mread\u001b[0m\u001b[1;33m(\u001b[0m\u001b[0mnrows\u001b[0m\u001b[1;33m)\u001b[0m\u001b[1;33m\u001b[0m\u001b[1;33m\u001b[0m\u001b[0m\n\u001b[0m\u001b[0;32m   2062\u001b[0m         \u001b[1;32mexcept\u001b[0m \u001b[0mStopIteration\u001b[0m\u001b[1;33m:\u001b[0m\u001b[1;33m\u001b[0m\u001b[1;33m\u001b[0m\u001b[0m\n\u001b[0;32m   2063\u001b[0m             \u001b[1;32mif\u001b[0m \u001b[0mself\u001b[0m\u001b[1;33m.\u001b[0m\u001b[0m_first_chunk\u001b[0m\u001b[1;33m:\u001b[0m\u001b[1;33m\u001b[0m\u001b[1;33m\u001b[0m\u001b[0m\n",
      "\u001b[1;32mpandas\\_libs\\parsers.pyx\u001b[0m in \u001b[0;36mpandas._libs.parsers.TextReader.read\u001b[1;34m()\u001b[0m\n",
      "\u001b[1;32mpandas\\_libs\\parsers.pyx\u001b[0m in \u001b[0;36mpandas._libs.parsers.TextReader._read_low_memory\u001b[1;34m()\u001b[0m\n",
      "\u001b[1;32mpandas\\_libs\\parsers.pyx\u001b[0m in \u001b[0;36mpandas._libs.parsers.TextReader._read_rows\u001b[1;34m()\u001b[0m\n",
      "\u001b[1;32mpandas\\_libs\\parsers.pyx\u001b[0m in \u001b[0;36mpandas._libs.parsers.TextReader._convert_column_data\u001b[1;34m()\u001b[0m\n",
      "\u001b[1;32mpandas\\_libs\\parsers.pyx\u001b[0m in \u001b[0;36mpandas._libs.parsers.TextReader._convert_tokens\u001b[1;34m()\u001b[0m\n",
      "\u001b[1;32mpandas\\_libs\\parsers.pyx\u001b[0m in \u001b[0;36mpandas._libs.parsers.TextReader._convert_with_dtype\u001b[1;34m()\u001b[0m\n",
      "\u001b[1;32mpandas\\_libs\\parsers.pyx\u001b[0m in \u001b[0;36mpandas._libs.parsers._try_int64\u001b[1;34m()\u001b[0m\n",
      "\u001b[1;31mMemoryError\u001b[0m: Unable to allocate 2.00 MiB for an array with shape (262144,) and data type int64"
     ]
    }
   ],
   "source": [
    "waveform_table = pd.read_csv('HPKR00030_2cicli_OV3_wf.csv', header=n_line-1)"
   ]
  },
  {
   "cell_type": "code",
   "execution_count": null,
   "id": "9bcd1f1a-98a4-4105-9605-361f42e15fe3",
   "metadata": {},
   "outputs": [],
   "source": [
    "waveform_table.head()"
   ]
  },
  {
   "cell_type": "code",
   "execution_count": 62,
   "id": "88490592-66c9-4cb9-a93a-b4b768b0efa2",
   "metadata": {},
   "outputs": [],
   "source": [
    "timestamp_table.at[0,'Timestamp'] = timestamp_table.iloc[0]['Delta t']"
   ]
  },
  {
   "cell_type": "code",
   "execution_count": 66,
   "id": "37a199b1-b894-4c52-bd69-e4d82bb99db5",
   "metadata": {},
   "outputs": [
    {
     "data": {
      "text/plain": [
       "0      0.000000\n",
       "1      0.015416\n",
       "2      0.000355\n",
       "3      0.004935\n",
       "4      0.010274\n",
       "         ...   \n",
       "995    0.017280\n",
       "996    0.017200\n",
       "997    0.017403\n",
       "998    1.396270\n",
       "999    1.322320\n",
       "Name: Delta t, Length: 1000, dtype: float64"
      ]
     },
     "execution_count": 66,
     "metadata": {},
     "output_type": "execute_result"
    }
   ],
   "source": [
    "timestamp_table['Delta t']"
   ]
  },
  {
   "cell_type": "raw",
   "id": "73b6e60e-1d49-4fa2-8a21-9972be2ca080",
   "metadata": {},
   "source": [
    "for i in timestamp_table.index[1:]:\n",
    "    timestamp_table.Timestamp.loc[[i],['Timestamp']] = timestamp_table.loc[[i-1],['Timestamp']] + timestamp_table.loc[[i],['Delta t']]"
   ]
  },
  {
   "cell_type": "raw",
   "id": "f3b4d7ce-5d53-4db3-9bc9-91b56a240626",
   "metadata": {},
   "source": [
    "for i in timestamp_table.index[1:]:\n",
    "    print(i, type(int(i)))\n",
    "    if i == 10: break"
   ]
  },
  {
   "cell_type": "code",
   "execution_count": 88,
   "id": "055ebed7-e185-4cb5-a3af-fd2b0182da79",
   "metadata": {},
   "outputs": [
    {
     "data": {
      "text/plain": [
       "1.0"
      ]
     },
     "execution_count": 88,
     "metadata": {},
     "output_type": "execute_result"
    }
   ],
   "source": [
    "timestamp_table.at[1,'Timestamp']"
   ]
  },
  {
   "cell_type": "code",
   "execution_count": 89,
   "id": "0432be46-695b-443f-8ec5-7a18e2e75214",
   "metadata": {},
   "outputs": [],
   "source": [
    "for i in range(len(timestamp_table)):\n",
    "    timestamp_table.at[i+1,'Timestamp'] = timestamp_table.at[i,'Timestamp'] + timestamp_table.at[i,'Delta t']"
   ]
  },
  {
   "cell_type": "code",
   "execution_count": 94,
   "id": "eb5b6e14-8c02-4d6e-8405-8a03b6df688d",
   "metadata": {},
   "outputs": [
    {
     "data": {
      "text/plain": [
       "0    0.000000\n",
       "1    0.000000\n",
       "2    0.015416\n",
       "3    0.015771\n",
       "4    0.020706\n",
       "5    0.030981\n",
       "6    0.035933\n",
       "7    0.036720\n",
       "8    0.043858\n",
       "9    0.055211\n",
       "Name: Timestamp, dtype: float64"
      ]
     },
     "execution_count": 94,
     "metadata": {},
     "output_type": "execute_result"
    }
   ],
   "source": [
    "timestamp_table.Timestamp.head(10)"
   ]
  },
  {
   "cell_type": "code",
   "execution_count": 74,
   "id": "3a6d16e6-6105-460e-a6dc-30cc7d625376",
   "metadata": {},
   "outputs": [
    {
     "data": {
      "text/html": [
       "<div>\n",
       "<style scoped>\n",
       "    .dataframe tbody tr th:only-of-type {\n",
       "        vertical-align: middle;\n",
       "    }\n",
       "\n",
       "    .dataframe tbody tr th {\n",
       "        vertical-align: top;\n",
       "    }\n",
       "\n",
       "    .dataframe thead th {\n",
       "        text-align: right;\n",
       "    }\n",
       "</style>\n",
       "<table border=\"1\" class=\"dataframe\">\n",
       "  <thead>\n",
       "    <tr style=\"text-align: right;\">\n",
       "      <th></th>\n",
       "      <th>Timestamp</th>\n",
       "    </tr>\n",
       "  </thead>\n",
       "  <tbody>\n",
       "    <tr>\n",
       "      <th>999</th>\n",
       "      <td>1.0</td>\n",
       "    </tr>\n",
       "  </tbody>\n",
       "</table>\n",
       "</div>"
      ],
      "text/plain": [
       "     Timestamp\n",
       "999        1.0"
      ]
     },
     "execution_count": 74,
     "metadata": {},
     "output_type": "execute_result"
    }
   ],
   "source": [
    "timestamp_table.loc[[i],['Timestamp']] = 1\n",
    "timestamp_table.loc[[i],['Timestamp']]"
   ]
  },
  {
   "cell_type": "code",
   "execution_count": 85,
   "id": "3fd7e5e3-47b1-401a-bb19-168b802b2059",
   "metadata": {},
   "outputs": [
    {
     "name": "stdout",
     "output_type": "stream",
     "text": [
      "0.0\n",
      "1.0154156\n",
      "nan\n",
      "nan\n",
      "nan\n",
      "nan\n",
      "nan\n",
      "nan\n",
      "nan\n",
      "nan\n",
      "nan\n"
     ]
    }
   ],
   "source": [
    "for i in range(len(timestamp_table)):\n",
    "    # timestamp_table.loc[i+1,['Timestamp']] = timestamp_table.loc[i,['Timestamp']] + timestamp_table.loc[i,['Delta t']]\n",
    "    print(timestamp_table.at[i,'Timestamp'] + timestamp_table.at[i,'Delta t'])\n",
    "    if i == 10: break"
   ]
  },
  {
   "cell_type": "raw",
   "id": "87513cf4-17ff-47b7-9441-e9ae4ae00ccd",
   "metadata": {},
   "source": [
    "for i in timestamp_table.index[1:]:\n",
    "    timestamp = timestamp.loc[[i],['Timestamp']]"
   ]
  },
  {
   "cell_type": "raw",
   "id": "1a92ec34-c359-4490-9c1e-5851f8264b76",
   "metadata": {},
   "source": [
    "for timestamp, delta in zip(timestamp_table.Timestamp[1:], timestamp_table['Delta t'][1:]):\n",
    "    timestamp \n",
    "    temp = timestamp"
   ]
  },
  {
   "cell_type": "code",
   "execution_count": 53,
   "id": "b757698a-6b9d-4c24-a58c-713abf8a3a60",
   "metadata": {},
   "outputs": [
    {
     "data": {
      "text/plain": [
       "0       0.0\n",
       "1       NaN\n",
       "2       NaN\n",
       "3       NaN\n",
       "4       NaN\n",
       "       ... \n",
       "998     NaN\n",
       "999     NaN\n",
       "1000    NaN\n",
       "1001    NaN\n",
       "1002    NaN\n",
       "Name: Timestamp, Length: 1003, dtype: float64"
      ]
     },
     "execution_count": 53,
     "metadata": {},
     "output_type": "execute_result"
    }
   ],
   "source": [
    "timestamp_table.Timestamp"
   ]
  },
  {
   "cell_type": "code",
   "execution_count": 29,
   "id": "bf85c029-1d67-48e4-889c-675ce9acbb8a",
   "metadata": {},
   "outputs": [],
   "source": [
    "# Create function to analyze the data\n",
    "# As an alternative, you can create a function that analyzes a single waveform, then loop it over all of them\n",
    "# Inside this loop one can insert the whole analysis\n",
    "\n",
    "def analysis(timestamp_table, waveform_table, wf_datapoint):\n",
    "    for n in N_events:\n",
    "        snippet = waveform_table.loc[wf_datapoint*n:wf_datapoint*(n+1)-1].copy() \n",
    "        # This is a slice of the wf dataframe for a single event\n",
    "        # Notice that it doesn't even need the timestamps\n",
    "        \n",
    "        minimum_list = argrelextrema(snippet.CH1.values, numpy.less_equal, order = 50)[0]\n",
    "            # the less_equal operator of numpy is used as comparison\n",
    "            # order is number of points used for window where to find \n",
    "            # [0] value only, cause argrelextrema return a matrix and we only want first return\n",
    "        \n",
    "        waveform_table.loc[:,'min'] = waveform_table[minimum_list]['CH1'] # Empty column unless it's a minimum then you have its amplitude\n",
    "        waveform_table.loc[:,'deltat'] = waveform_table[minimum_list]['CH1'] \n",
    "     \n",
    "        plt.scatter(single_waveform.TIME), single_waveform.CH1, marker='.')\n",
    "        plt.scatter(single_waveform.TIME, waveform_table.min, color='darkred')"
   ]
  },
  {
   "cell_type": "markdown",
   "id": "4fdbe3bb-ac16-43eb-83b3-1c1fcde9e6c8",
   "metadata": {},
   "source": [
    "## Tips and tricks\n",
    "\n",
    "You have to find an automated way to find the \"good\" absolute minimum.\n",
    "How?\n",
    "\n",
    "1. Extrapolate baseline: evaluate it by using only pre-trigger amplitudes.\n",
    "2. Raise an error or quarantine the snippet if you have a number of minima that is too big\n",
    "3. Evaluate the derivative of the ramp up of a peak\n",
    "4. Dark count rate is number of total events / total time\n",
    "5. Discriminate if two peaks have a distance between each other that is too small (is less than the width of the window)\n",
    "\n",
    "Options to follow:\n",
    "\n",
    "1. Throw away all noise: if the waveform is not good (has more than one minimum that goes over the threshold) throw it away completely; have to count all the waveforms that are thrown and estimate fraction of total events\n",
    "2. Check on saturated events: must be true to have points over the threshold and also have some number of points (like, 10) in a very narrow range of values (all equal)\n",
    "\n",
    "Final goals:\n",
    "\n",
    "1. Create 2D plot with time differences (x) and amplitude (y): time differences are the differences between timestamps of any two successive \"good\" peaks"
   ]
  },
  {
   "cell_type": "code",
   "execution_count": 48,
   "id": "750bc181-756a-4091-81a7-61229c55e03b",
   "metadata": {},
   "outputs": [
    {
     "data": {
      "text/plain": [
       "range(0, 10)"
      ]
     },
     "execution_count": 48,
     "metadata": {},
     "output_type": "execute_result"
    }
   ],
   "source": [
    "range(10)"
   ]
  }
 ],
 "metadata": {
  "kernelspec": {
   "display_name": "Python 3",
   "language": "python",
   "name": "python3"
  },
  "language_info": {
   "codemirror_mode": {
    "name": "ipython",
    "version": 3
   },
   "file_extension": ".py",
   "mimetype": "text/x-python",
   "name": "python",
   "nbconvert_exporter": "python",
   "pygments_lexer": "ipython3",
   "version": "3.8.0"
  }
 },
 "nbformat": 4,
 "nbformat_minor": 5
}
