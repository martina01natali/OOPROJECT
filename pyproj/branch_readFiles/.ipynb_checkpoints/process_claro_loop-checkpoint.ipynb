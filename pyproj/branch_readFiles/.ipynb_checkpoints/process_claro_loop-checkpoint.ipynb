{
 "cells": [
  {
   "cell_type": "code",
   "execution_count": 89,
   "id": "cffbd925-87b6-4f75-ac85-6be689ef4c6a",
   "metadata": {},
   "outputs": [],
   "source": [
    "#!/usr/bin/env python\n",
    "\n",
    "import os\n",
    "import re\n",
    "import csv\n",
    "import fnmatch\n",
    "import numpy as np\n",
    "import pandas as pd\n",
    "import matplotlib as mplt\n",
    "import matplotlib.pyplot as plt\n",
    "from scipy import special as sp\n",
    "from scipy.optimize import curve_fit"
   ]
  },
  {
   "cell_type": "code",
   "execution_count": 17,
   "id": "6885853c-4add-4240-8a03-563a1ad43514",
   "metadata": {
    "tags": []
   },
   "outputs": [],
   "source": [
    "# Path of directory of this script is\n",
    "# 'G:\\\\Il mio Drive\\\\Corsi\\\\Object_Oriented_Programming\\\\Python\\\\Process_claro_py\\\\'\n",
    "\n",
    "# Ask for top directory\n",
    "TDIR = 'C:\\\\Users\\\\MARTINA\\\\Desktop\\\\secondolotto_1\\\\'\n",
    "# TDIR = 'C:\\Users\\MARTINA\\Desktop\\secondolotto_1\\'\n",
    "# TDIR = input(\"\\nEnter the top directory's abs path (end with /):\\n> \")"
   ]
  },
  {
   "cell_type": "code",
   "execution_count": 18,
   "id": "9d15cd11-8ffd-45fc-ad9b-75036c450e58",
   "metadata": {},
   "outputs": [
    {
     "data": {
      "text/plain": [
       "'C:\\\\Users\\\\MARTINA\\\\Desktop\\\\secondolotto_1\\\\'"
      ]
     },
     "execution_count": 18,
     "metadata": {},
     "output_type": "execute_result"
    }
   ],
   "source": [
    "TDIR"
   ]
  },
  {
   "cell_type": "code",
   "execution_count": 105,
   "id": "5f5d1337-ba6d-4345-afe0-4b059e8e31ba",
   "metadata": {
    "tags": []
   },
   "outputs": [
    {
     "name": "stdin",
     "output_type": "stream",
     "text": [
      "Please provide top directory absolute path. If you're a Windows user, provide path with backslashes \"\\\", double if whitespace is present in the path.\n",
      " C:\\Users\\MARTINA\\Desktop\\secondolotto_1\\\n"
     ]
    },
    {
     "name": "stdout",
     "output_type": "stream",
     "text": [
      "ValueError: Couldn't read data in: C:\\Users\\MARTINA\\Desktop\\secondolotto_1\\Station_1__11\\Station_1__11_Summary\\Chip_001\\S_curve\\Ch_8_offset_0_Chip_001.txt\n",
      " Going on...\n",
      "Completed. Output paths to good files are stored in claro_files.txt\n"
     ]
    }
   ],
   "source": [
    "TDIR = input(\"Please provide top directory absolute path. \"\n",
    "             +\"If you're a Windows user, provide path with backslashes \\\"\\\\\\\", double if whitespace is present in the path.\\n\")\n",
    "# if isinstance(TDIR, str):\n",
    "#     raise NameError(\"Plase provide a string.\")\n",
    "        \n",
    "DIRPAT = \"*Station_1__11\\Station_1__??_Summary\\Chip_001\\S_curve\"\n",
    "        # \"*Station_1__*\\Station_1__??_Summary\\Chip_*\\S_curve\" # this is the generic version\n",
    "FILEPAT = \"Ch_*_offset_*_Chip_*.txt\"\n",
    "OUTFILE = \"claro_files.txt\"\n",
    "fileinfos = dict()\n",
    "\n",
    "for root, dirs, files in os.walk(TDIR):\n",
    "    if fnmatch.fnmatch(\n",
    "        root, TDIR + DIRPAT):\n",
    "        for f in files:\n",
    "            if fnmatch.fnmatch(f, FILEPAT):\n",
    "                thisfile = os.path.join(root,f)\n",
    "                        # path of file currently used\n",
    "                with open(thisfile) as csvfile:\n",
    "                    lines = csvfile.readlines()\n",
    "                    firstline = lines[0].split()\n",
    "                    try:\n",
    "                        if isinstance(float(firstline[2]), float):\n",
    "                            temp = re.findall(\"[0-9]+\", thisfile)\n",
    "                            fileinfos[thisfile] = {\n",
    "                                    'station': temp[0],\n",
    "                                    'sub': temp[2],\n",
    "                                    'chip': temp[5],\n",
    "                                    'ch': temp[6],\n",
    "                                    'offset': temp[7],\n",
    "                                    'transition': firstline[1],\n",
    "                                    'width': firstline[2],\n",
    "                                    }\n",
    "                        with open(OUTFILE, \"w+\") as output:\n",
    "                            output.write(thisfile+\"\\n\")\n",
    "                    except ValueError:\n",
    "                        print(f\"ValueError: Couldn't read data in: {thisfile}\\n \"\n",
    "                             + \"Going on...\")\n",
    "                        pass\n",
    "                    except IndexError:\n",
    "                        raise\n",
    "\n",
    "print(f\"Completed. Output paths to good files are stored in {OUTFILE}\")"
   ]
  },
  {
   "cell_type": "code",
   "execution_count": 106,
   "id": "9126cdc6-783c-4103-b628-6ce2bd1e99d6",
   "metadata": {},
   "outputs": [
    {
     "data": {
      "text/plain": [
       "{'C:\\\\Users\\\\MARTINA\\\\Desktop\\\\secondolotto_1\\\\Station_1__11\\\\Station_1__11_Summary\\\\Chip_001\\\\S_curve\\\\Ch_0_offset_0_Chip_001.txt': {'station': '1',\n",
       "  'sub': '11',\n",
       "  'chip': '001',\n",
       "  'ch': '0',\n",
       "  'offset': '0',\n",
       "  'transition': '161.272238',\n",
       "  'width': '-1.923543'},\n",
       " 'C:\\\\Users\\\\MARTINA\\\\Desktop\\\\secondolotto_1\\\\Station_1__11\\\\Station_1__11_Summary\\\\Chip_001\\\\S_curve\\\\Ch_1_offset_0_Chip_001.txt': {'station': '1',\n",
       "  'sub': '11',\n",
       "  'chip': '001',\n",
       "  'ch': '1',\n",
       "  'offset': '0',\n",
       "  'transition': '233.742690',\n",
       "  'width': '-1.841865'},\n",
       " 'C:\\\\Users\\\\MARTINA\\\\Desktop\\\\secondolotto_1\\\\Station_1__11\\\\Station_1__11_Summary\\\\Chip_001\\\\S_curve\\\\Ch_2_offset_0_Chip_001.txt': {'station': '1',\n",
       "  'sub': '11',\n",
       "  'chip': '001',\n",
       "  'ch': '2',\n",
       "  'offset': '0',\n",
       "  'transition': '181.384648',\n",
       "  'width': '-1.965088'},\n",
       " 'C:\\\\Users\\\\MARTINA\\\\Desktop\\\\secondolotto_1\\\\Station_1__11\\\\Station_1__11_Summary\\\\Chip_001\\\\S_curve\\\\Ch_3_offset_0_Chip_001.txt': {'station': '1',\n",
       "  'sub': '11',\n",
       "  'chip': '001',\n",
       "  'ch': '3',\n",
       "  'offset': '0',\n",
       "  'transition': '180.409687',\n",
       "  'width': '-1.734234'},\n",
       " 'C:\\\\Users\\\\MARTINA\\\\Desktop\\\\secondolotto_1\\\\Station_1__11\\\\Station_1__11_Summary\\\\Chip_001\\\\S_curve\\\\Ch_4_offset_0_Chip_001.txt': {'station': '1',\n",
       "  'sub': '11',\n",
       "  'chip': '001',\n",
       "  'ch': '4',\n",
       "  'offset': '0',\n",
       "  'transition': '193.324689',\n",
       "  'width': '-1.848843'},\n",
       " 'C:\\\\Users\\\\MARTINA\\\\Desktop\\\\secondolotto_1\\\\Station_1__11\\\\Station_1__11_Summary\\\\Chip_001\\\\S_curve\\\\Ch_5_offset_0_Chip_001.txt': {'station': '1',\n",
       "  'sub': '11',\n",
       "  'chip': '001',\n",
       "  'ch': '5',\n",
       "  'offset': '0',\n",
       "  'transition': '195.855577',\n",
       "  'width': '-2.029422'},\n",
       " 'C:\\\\Users\\\\MARTINA\\\\Desktop\\\\secondolotto_1\\\\Station_1__11\\\\Station_1__11_Summary\\\\Chip_001\\\\S_curve\\\\Ch_6_offset_0_Chip_001.txt': {'station': '1',\n",
       "  'sub': '11',\n",
       "  'chip': '001',\n",
       "  'ch': '6',\n",
       "  'offset': '0',\n",
       "  'transition': '187.735490',\n",
       "  'width': '-2.015199'},\n",
       " 'C:\\\\Users\\\\MARTINA\\\\Desktop\\\\secondolotto_1\\\\Station_1__11\\\\Station_1__11_Summary\\\\Chip_001\\\\S_curve\\\\Ch_7_offset_0_Chip_001.txt': {'station': '1',\n",
       "  'sub': '11',\n",
       "  'chip': '001',\n",
       "  'ch': '7',\n",
       "  'offset': '0',\n",
       "  'transition': '186.527393',\n",
       "  'width': '-2.256561'}}"
      ]
     },
     "execution_count": 106,
     "metadata": {},
     "output_type": "execute_result"
    }
   ],
   "source": [
    "fileinfos"
   ]
  }
 ],
 "metadata": {
  "kernelspec": {
   "display_name": "Python 3",
   "language": "python",
   "name": "python3"
  },
  "language_info": {
   "codemirror_mode": {
    "name": "ipython",
    "version": 3
   },
   "file_extension": ".py",
   "mimetype": "text/x-python",
   "name": "python",
   "nbconvert_exporter": "python",
   "pygments_lexer": "ipython3",
   "version": "3.8.0"
  }
 },
 "nbformat": 4,
 "nbformat_minor": 5
}
