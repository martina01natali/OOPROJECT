{
 "cells": [
  {
   "cell_type": "markdown",
   "id": "7d378615-72a4-45b8-b09d-a8c09997fe8e",
   "metadata": {},
   "source": [
    "# TEST DarkCounts class"
   ]
  },
  {
   "cell_type": "code",
   "execution_count": 1,
   "id": "6ddc571c-4f72-4d55-b7a3-2f2cd1bb1271",
   "metadata": {},
   "outputs": [],
   "source": [
    "from dcr_class import *"
   ]
  },
  {
   "cell_type": "code",
   "execution_count": 2,
   "id": "b9326f3f-b391-4d35-8b55-75e99509c990",
   "metadata": {},
   "outputs": [],
   "source": [
    "files = {'wf'   : '..\\\\Data\\\\DCR\\\\HPKR00030_2cicli_OV4_wf.csv',\n",
    "         'time' : '..\\\\Data\\\\DCR\\\\HPKR00030_2cicli_OV4_time.csv'}\n",
    "\n",
    "new = DarkCounts(datafiles=files)\n",
    "new.params['custom_n_events'] = 1000\n",
    "new.params['cross_thr'] = 0.015"
   ]
  },
  {
   "cell_type": "code",
   "execution_count": 3,
   "id": "6659b217-7e2d-4f08-b14f-4bd387d2b400",
   "metadata": {},
   "outputs": [
    {
     "data": {
      "text/plain": [
       "{'custom_n_events': 1000, 'thr': 0.006, 'cross_thr': 0.015, 'delay_thr': 6e-06}"
      ]
     },
     "execution_count": 3,
     "metadata": {},
     "output_type": "execute_result"
    }
   ],
   "source": [
    "new.params"
   ]
  },
  {
   "cell_type": "code",
   "execution_count": 4,
   "id": "4d7d13bb-9af3-413d-9928-ea39e3e990cb",
   "metadata": {},
   "outputs": [
    {
     "data": {
      "text/plain": [
       "{'path_wf': '..\\\\Data\\\\DCR\\\\HPKR00030_2cicli_OV4_wf.csv',\n",
       " 'path_time': '..\\\\Data\\\\DCR\\\\HPKR00030_2cicli_OV4_time.csv',\n",
       " 'time_unit': 's',\n",
       " 'wf_datapoints': 6250,\n",
       " 'ampl_unit': 'V',\n",
       " 'wf_events': 1000}"
      ]
     },
     "execution_count": 4,
     "metadata": {},
     "output_type": "execute_result"
    }
   ],
   "source": [
    "new.meta"
   ]
  },
  {
   "cell_type": "code",
   "execution_count": null,
   "id": "0a843427-11c1-4b3a-a130-4cc2e3b94f57",
   "metadata": {},
   "outputs": [
    {
     "name": "stdout",
     "output_type": "stream",
     "text": [
      "Analysis of event number 396\r"
     ]
    }
   ],
   "source": [
    "a = new.analysis()"
   ]
  },
  {
   "cell_type": "code",
   "execution_count": null,
   "id": "aed6acaa-3372-436e-9c21-fcdc7c6ef94f",
   "metadata": {},
   "outputs": [],
   "source": [
    "b = new.analysis_noise()"
   ]
  },
  {
   "cell_type": "code",
   "execution_count": null,
   "id": "65322f77-6145-4ef0-9da3-927f3879eaf8",
   "metadata": {},
   "outputs": [],
   "source": [
    "new.plot_2d(save=True)"
   ]
  },
  {
   "cell_type": "code",
   "execution_count": null,
   "id": "49f61587-d0d2-4ade-bd15-33ef8e1bb592",
   "metadata": {},
   "outputs": [],
   "source": [
    "new.print_dcr()"
   ]
  },
  {
   "cell_type": "code",
   "execution_count": null,
   "id": "b4d54e3d-bff2-44cd-b314-f2e9a6025f4f",
   "metadata": {},
   "outputs": [],
   "source": [
    "print(new)"
   ]
  }
 ],
 "metadata": {
  "kernelspec": {
   "display_name": "oop",
   "language": "python",
   "name": "oop"
  },
  "language_info": {
   "codemirror_mode": {
    "name": "ipython",
    "version": 3
   },
   "file_extension": ".py",
   "mimetype": "text/x-python",
   "name": "python",
   "nbconvert_exporter": "python",
   "pygments_lexer": "ipython3",
   "version": "3.9.7"
  }
 },
 "nbformat": 4,
 "nbformat_minor": 5
}
