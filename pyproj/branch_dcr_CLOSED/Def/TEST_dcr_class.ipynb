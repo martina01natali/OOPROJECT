{
 "cells": [
  {
   "cell_type": "markdown",
   "id": "7d378615-72a4-45b8-b09d-a8c09997fe8e",
   "metadata": {},
   "source": [
    "# TEST dcr_class.py"
   ]
  },
  {
   "cell_type": "code",
   "execution_count": 1,
   "id": "6d3e121a-5c94-4cb5-ab82-845c133d01c0",
   "metadata": {},
   "outputs": [],
   "source": [
    "from projmodule.dcr_class import DarkCounts "
   ]
  },
  {
   "cell_type": "code",
   "execution_count": null,
   "id": "b9326f3f-b391-4d35-8b55-75e99509c990",
   "metadata": {},
   "outputs": [],
   "source": [
    "PARAMS = {'custom_n_events' : 1000,\n",
    "          'thr' : 0.006,\n",
    "          'cross_thr' : 15e-3,\n",
    "          'delay_thr' : 6e-6,\n",
    "         }\n",
    "\n",
    "DATAFILES = {'wf'   : '..\\\\Data\\\\DCR\\\\HPKR00030_2cicli_OV5_wf.csv',\n",
    "             'time' : '..\\\\Data\\\\DCR\\\\HPKR00030_2cicli_OV5_time.csv'\n",
    "            }\n",
    "\n",
    "# Initialize DarkCounts object\n",
    "# new = DarkCounts() is admitted, default params are given but no datafiles\n",
    "new = DarkCounts(datafiles=DATAFILES, params=PARAMS)"
   ]
  },
  {
   "cell_type": "code",
   "execution_count": null,
   "id": "1341e6b4-d4c0-4d01-a5eb-a14e97368a79",
   "metadata": {},
   "outputs": [],
   "source": [
    "# If no datafiles or params are provided, they can be set through their setters\n",
    "# new.custom_n_events = <newvalue>\n",
    "# new.params = <new_dict>\n",
    "# new.datafiles = <new_dict>"
   ]
  },
  {
   "cell_type": "code",
   "execution_count": null,
   "id": "6659b217-7e2d-4f08-b14f-4bd387d2b400",
   "metadata": {},
   "outputs": [],
   "source": [
    "# Custom-made representation of DarkCounts object\n",
    "new"
   ]
  },
  {
   "cell_type": "code",
   "execution_count": null,
   "id": "62ecec86-e681-4182-9cd5-930a81277fec",
   "metadata": {},
   "outputs": [],
   "source": [
    "# Data from provided datafiles are stored in self.wf and self.time properties\n",
    "new.wf.head()"
   ]
  },
  {
   "cell_type": "code",
   "execution_count": null,
   "id": "660ee6c3-d862-4560-ae06-e6e58dc55230",
   "metadata": {},
   "outputs": [],
   "source": [
    "new.time.head()"
   ]
  },
  {
   "cell_type": "code",
   "execution_count": null,
   "id": "49f61587-d0d2-4ade-bd15-33ef8e1bb592",
   "metadata": {},
   "outputs": [],
   "source": [
    "# After calling analysis() you can access the estimated DCR\n",
    "new.dcr"
   ]
  },
  {
   "cell_type": "code",
   "execution_count": null,
   "id": "2c2d2fc2-3ef2-4e17-8bd3-61281c43383c",
   "metadata": {},
   "outputs": [],
   "source": [
    "# Method to analyze waveforms and locate clean signal peaks\n",
    "# The function can be used to plot in a loop the waveforms with highlighted good and bad minima\n",
    "# (see samples in Plots folders)\n",
    "new.analysis(distance=50, # Minimum distance (in datapoints) between two consecutive good minima \n",
    "             many_minima=6250, # Maximum number of minima allowed for a waveform to be \"good\"\n",
    "             plot=False, save_plot=False, save_format='png') # Plot control"
   ]
  },
  {
   "cell_type": "code",
   "execution_count": null,
   "id": "9cf77db4-5d39-4c88-8c7b-35b06fdf7a09",
   "metadata": {},
   "outputs": [],
   "source": [
    "# After calling analysis() you can access the estimated DCR\n",
    "new.dcr"
   ]
  },
  {
   "cell_type": "code",
   "execution_count": null,
   "id": "aed6acaa-3372-436e-9c21-fcdc7c6ef94f",
   "metadata": {},
   "outputs": [],
   "source": [
    "# Method to polish the dataframe returned from the analysis function and discriminate between noise based on thresholds provided in PARAMS\n",
    "new.analysis_noise()"
   ]
  },
  {
   "cell_type": "code",
   "execution_count": null,
   "id": "1b835204-03ac-4e50-ae51-b972d9ce4fa0",
   "metadata": {},
   "outputs": [],
   "source": [
    "# Tells you if called two times on the same dataset\n",
    "new.analysis_noise()"
   ]
  },
  {
   "cell_type": "code",
   "execution_count": null,
   "id": "65322f77-6145-4ef0-9da3-927f3879eaf8",
   "metadata": {},
   "outputs": [],
   "source": [
    "# Method to produce a combined 2D scatterplotplot amplitude [V] VS time [s] of the retrieved signals and their histogram\n",
    "# The plot is based on seaborn methods\n",
    "new.plot_2d(sns_palette='deep', title='2D plot', show=True, save=False, save_path='Amplitude_vs_dt', save_extension='pdf')"
   ]
  }
 ],
 "metadata": {
  "kernelspec": {
   "display_name": "oop",
   "language": "python",
   "name": "oop"
  },
  "language_info": {
   "codemirror_mode": {
    "name": "ipython",
    "version": 3
   },
   "file_extension": ".py",
   "mimetype": "text/x-python",
   "name": "python",
   "nbconvert_exporter": "python",
   "pygments_lexer": "ipython3",
   "version": "3.9.7"
  }
 },
 "nbformat": 4,
 "nbformat_minor": 5
}
