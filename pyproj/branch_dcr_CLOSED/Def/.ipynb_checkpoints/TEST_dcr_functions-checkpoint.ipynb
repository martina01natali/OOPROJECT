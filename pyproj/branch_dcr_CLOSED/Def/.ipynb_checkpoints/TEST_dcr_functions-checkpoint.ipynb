{
 "cells": [
  {
   "cell_type": "markdown",
   "id": "fdfc6315-b493-4da0-bb48-c3cb58894075",
   "metadata": {},
   "source": [
    "# Test notebook for dcr_functions.py"
   ]
  },
  {
   "cell_type": "markdown",
   "id": "c24c633d-c6da-40db-be6e-0b7c8c293ced",
   "metadata": {},
   "source": [
    "## Updates to make\n",
    "\n",
    "- [ ] Must run on full dataset (custom_n_events=1000) on OV3, OV4\n",
    "- [ ] Create class?"
   ]
  },
  {
   "cell_type": "code",
   "execution_count": null,
   "id": "05a1a0da-5ef3-449a-81be-19e6d1826166",
   "metadata": {},
   "outputs": [
    {
     "name": "stdout",
     "output_type": "stream",
     "text": [
      "Analysis of event number 495\r"
     ]
    }
   ],
   "source": [
    "from dcr_functions import *\n",
    "\n",
    "wf, meta = read_wf(\"..\\\\Data\\\\DCR\\\\HPKR00030_2cicli_OV4_wf.csv\")\n",
    "time_table = read_wf(\"..\\\\Data\\\\DCR\\\\HPKR00030_2cicli_OV4_time.csv\")\n",
    "\n",
    "wf_an, meta = analysis(wf_table=wf, meta=meta, timestamp_table=time_table,\n",
    "                       custom_n_events=1000,\n",
    "                       many_minima=500,\n",
    "                       threshold=0.006, distance=50,\n",
    "                       plot=False, save_plot=True,\n",
    "                      )\n",
    "\n",
    "wf_delta, meta = analysis_delta_t(wf_an, meta, crosstalk_thr=0.015)\n",
    "\n",
    "plot_2d(wf_delta, meta, save=True)"
   ]
  }
 ],
 "metadata": {
  "kernelspec": {
   "display_name": "oop",
   "language": "python",
   "name": "oop"
  },
  "language_info": {
   "codemirror_mode": {
    "name": "ipython",
    "version": 3
   },
   "file_extension": ".py",
   "mimetype": "text/x-python",
   "name": "python",
   "nbconvert_exporter": "python",
   "pygments_lexer": "ipython3",
   "version": "3.9.7"
  }
 },
 "nbformat": 4,
 "nbformat_minor": 5
}
