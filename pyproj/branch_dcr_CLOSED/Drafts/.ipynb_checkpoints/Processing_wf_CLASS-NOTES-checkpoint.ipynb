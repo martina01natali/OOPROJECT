{
 "cells": [
  {
   "cell_type": "markdown",
   "id": "bdb8993e-6d76-48ee-8e14-df927e9f1e73",
   "metadata": {},
   "source": [
    "# Processing of waveforms\n",
    "\n",
    "**GOAL**\n",
    "- count all events\n",
    "- make plot amplitude VS time to discriminate between 1 phe signals (\"real counts\" and afterpulses) and 2 phe signals (crosstalks)\n",
    "- evaluate % of afterpulses and crosstalks wrt total\n",
    "\n",
    "Notes: time axis has a physical minimum due to width of waveform\n",
    "\n",
    "**Procedure**\n",
    "- csv files of waveforms and timestamps combined\n",
    "- csv files, sliced into single waveforms\n",
    "- find minima (absolute and relative), plot them, count them (count single points of absolute minimum) and save their timestamps and amplitude\n",
    "- from amplitude value you understand if a peak is noise (crosstalk, afterpulse)\n",
    "- get amplitudes and timestamps of each minimum\n",
    "\n",
    "*Afterpulse*: happens tipically at 0.5 $\\mu$s after a real signal, and has an amplitude almost equal to 1 phe; threshold for considering an event an afterpulse of the event before is 6 $\\mu$s.  \n",
    "*Crosstalk*: single peak of amplitude 2 phe\n"
   ]
  },
  {
   "cell_type": "code",
   "execution_count": 1,
   "id": "c8299e13-4035-401d-bfc3-b5772f1a5316",
   "metadata": {},
   "outputs": [],
   "source": [
    "import os\n",
    "import numpy as np\n",
    "import pandas as pd\n",
    "import matplotlib as mplt\n",
    "import matplotlib.pyplot as plt\n",
    "from scipy.signal import argrelextrema # Finds the minima of any user-defined function"
   ]
  },
  {
   "cell_type": "code",
   "execution_count": 2,
   "id": "8e78e292-3791-4c71-b2aa-fbc884a72f31",
   "metadata": {},
   "outputs": [],
   "source": [
    "timestamp_table = pd.read_csv('HPKR00030_2cicli_OV3_time.csv', header = 0)\n",
    "timestamp_table.rename(columns={'X: (s)':'Event', 'Y: (Hits)':'Delta t'}, inplace=True)\n",
    "# timestamp_table.head()"
   ]
  },
  {
   "cell_type": "code",
   "execution_count": 7,
   "id": "fc9f7e1a-ae9e-4691-9e7e-911456810c7d",
   "metadata": {},
   "outputs": [],
   "source": [
    "N_of_events = len(timestamp_table) # Corresponds to the \"FastFrame Count\" written in the header of the wf files"
   ]
  },
  {
   "cell_type": "code",
   "execution_count": 8,
   "id": "7dea39c7-d0c4-49ef-a843-2a0a3b59a356",
   "metadata": {},
   "outputs": [],
   "source": [
    "wf_datapoint = 0\n",
    "line_counter = 0\n",
    "n_line = -1\n",
    "waveform_file = open('HPKR00030_2cicli_OV3_wf.csv') # Just opened to make automatic search of the header"
   ]
  },
  {
   "cell_type": "code",
   "execution_count": 9,
   "id": "0493f444-7b00-4c16-b26d-1491886ba2fc",
   "metadata": {},
   "outputs": [],
   "source": [
    "# Routine to count number of lines of header\n",
    "\n",
    "while n_line == -1:\n",
    "    line = waveform_file.readline()\n",
    "    if line.startswith(\"Record Length\"): wf_datapoint = int(line.split(',')[-1])\n",
    "    if line.startswith(\"TIME\"): n_line = line_counter\n",
    "    line_counter += 1\n",
    "    if line_counter == 100: print(\"ERROR\")"
   ]
  },
  {
   "cell_type": "code",
   "execution_count": 10,
   "id": "46295192-8ac9-45a1-9966-638d8778bb84",
   "metadata": {},
   "outputs": [
    {
     "data": {
      "text/plain": [
       "6250"
      ]
     },
     "execution_count": 10,
     "metadata": {},
     "output_type": "execute_result"
    }
   ],
   "source": [
    "wf_datapoint"
   ]
  },
  {
   "cell_type": "code",
   "execution_count": 11,
   "id": "3c1a838b-02d6-4443-916a-dae229cf0539",
   "metadata": {},
   "outputs": [
    {
     "data": {
      "text/plain": [
       "9"
      ]
     },
     "execution_count": 11,
     "metadata": {},
     "output_type": "execute_result"
    }
   ],
   "source": [
    "n_line"
   ]
  },
  {
   "cell_type": "code",
   "execution_count": 12,
   "id": "706f8a16-2dd5-410b-b5c9-371c1cd3238f",
   "metadata": {},
   "outputs": [],
   "source": [
    "waveform_table = pd.read_csv('HPKR00030_2cicli_OV3_wf.csv', header=n_line-1)"
   ]
  },
  {
   "cell_type": "code",
   "execution_count": 13,
   "id": "9bcd1f1a-98a4-4105-9605-361f42e15fe3",
   "metadata": {},
   "outputs": [
    {
     "data": {
      "text/html": [
       "<div>\n",
       "<style scoped>\n",
       "    .dataframe tbody tr th:only-of-type {\n",
       "        vertical-align: middle;\n",
       "    }\n",
       "\n",
       "    .dataframe tbody tr th {\n",
       "        vertical-align: top;\n",
       "    }\n",
       "\n",
       "    .dataframe thead th {\n",
       "        text-align: right;\n",
       "    }\n",
       "</style>\n",
       "<table border=\"1\" class=\"dataframe\">\n",
       "  <thead>\n",
       "    <tr style=\"text-align: right;\">\n",
       "      <th></th>\n",
       "      <th>TIME</th>\n",
       "      <th>CH1</th>\n",
       "    </tr>\n",
       "  </thead>\n",
       "  <tbody>\n",
       "    <tr>\n",
       "      <th>0</th>\n",
       "      <td>-9.994500e-08</td>\n",
       "      <td>-0.000809</td>\n",
       "    </tr>\n",
       "    <tr>\n",
       "      <th>1</th>\n",
       "      <td>-9.978500e-08</td>\n",
       "      <td>-0.000809</td>\n",
       "    </tr>\n",
       "    <tr>\n",
       "      <th>2</th>\n",
       "      <td>-9.962500e-08</td>\n",
       "      <td>-0.000809</td>\n",
       "    </tr>\n",
       "    <tr>\n",
       "      <th>3</th>\n",
       "      <td>-9.946500e-08</td>\n",
       "      <td>-0.000809</td>\n",
       "    </tr>\n",
       "    <tr>\n",
       "      <th>4</th>\n",
       "      <td>-9.930500e-08</td>\n",
       "      <td>-0.000809</td>\n",
       "    </tr>\n",
       "  </tbody>\n",
       "</table>\n",
       "</div>"
      ],
      "text/plain": [
       "           TIME       CH1\n",
       "0 -9.994500e-08 -0.000809\n",
       "1 -9.978500e-08 -0.000809\n",
       "2 -9.962500e-08 -0.000809\n",
       "3 -9.946500e-08 -0.000809\n",
       "4 -9.930500e-08 -0.000809"
      ]
     },
     "execution_count": 13,
     "metadata": {},
     "output_type": "execute_result"
    }
   ],
   "source": [
    "waveform_table.head()"
   ]
  },
  {
   "cell_type": "code",
   "execution_count": 14,
   "id": "88490592-66c9-4cb9-a93a-b4b768b0efa2",
   "metadata": {},
   "outputs": [],
   "source": [
    "timestamp_table.at[0,'Timestamp'] = timestamp_table.iloc[0]['Delta t']"
   ]
  },
  {
   "cell_type": "code",
   "execution_count": 15,
   "id": "0432be46-695b-443f-8ec5-7a18e2e75214",
   "metadata": {},
   "outputs": [],
   "source": [
    "for i in (range(len(timestamp_table))):\n",
    "    if i!=0:\n",
    "        timestamp_table.at[i,'Timestamp'] = timestamp_table.at[i-1,'Timestamp'] + timestamp_table.at[i,'Delta t']"
   ]
  },
  {
   "cell_type": "code",
   "execution_count": 16,
   "id": "eb5b6e14-8c02-4d6e-8405-8a03b6df688d",
   "metadata": {},
   "outputs": [
    {
     "data": {
      "text/plain": [
       "1000"
      ]
     },
     "execution_count": 16,
     "metadata": {},
     "output_type": "execute_result"
    }
   ],
   "source": [
    "len(timestamp_table.Timestamp)"
   ]
  },
  {
   "cell_type": "markdown",
   "id": "44c86505-8fed-4ff6-9a90-b7985098a955",
   "metadata": {},
   "source": [
    "The timestamp column contains the absolute timestamps of the triggers.\n",
    "On the other hand, the dataframe waveform_table contains the relative timestamps wrt the trigger (that in the database would have timestamp 0 for everyone of the 1000 waveforms).  \n",
    "I have to create a new column deltat with all the time deltas between two consecutive minima. To do this I must access the timestamp relative to the minima inside a loop or something similar."
   ]
  },
  {
   "cell_type": "code",
   "execution_count": 18,
   "id": "bf85c029-1d67-48e4-889c-675ce9acbb8a",
   "metadata": {},
   "outputs": [],
   "source": [
    "# Create function to analyze the data\n",
    "# As an alternative, you can create a function that analyzes a single waveform, then loop it over all of them\n",
    "# Inside this loop one can insert the whole analysis\n",
    "\n",
    "def analysis(timestamp_table, waveform_table, wf_datapoint, N_events):\n",
    "    for n in N_events:\n",
    "        snippet = waveform_table.loc[wf_datapoint*n:wf_datapoint*(n+1)-1].copy() \n",
    "                # This is a slice of the wf dataframe for a single event\n",
    "                # Notice that it doesn't even need the timestamps\n",
    "        minimum_list = argrelextrema(snippet.CH1.values, numpy.less_equal, order = 50)[0]\n",
    "                # the less_equal operator of numpy is used as comparison\n",
    "                # order is number of points used for window where to find \n",
    "                # [0] value only, cause argrelextrema return a matrix and we only want first return\n",
    "                # minimum_list is a list of all the index numbers of the minima that the function has found\n",
    "        waveform_table.loc[:,'min'] = waveform_table[minimum_list]['CH1'] # Empty column unless it's a minimum then you have its amplitude\n",
    "        waveform_table.loc[:,'deltat'] = waveform_table[minimum_list]['CH1'] \n",
    "     \n",
    "        plt.scatter(single_waveform.TIME, single_waveform.CH1, marker='.')\n",
    "        plt.scatter(single_waveform.TIME, waveform_table.min, color='darkred')"
   ]
  },
  {
   "cell_type": "code",
   "execution_count": 19,
   "id": "5920e97e-db18-4928-9eba-0d8ee1bb743f",
   "metadata": {},
   "outputs": [],
   "source": [
    "snippet = waveform_table.loc[wf_datapoint*1:wf_datapoint*(1+1)-1].copy() \n",
    "minimum_list = argrelextrema(snippet.CH1.values, numpy.less_equal, order = 50)[0]"
   ]
  },
  {
   "cell_type": "code",
   "execution_count": 21,
   "id": "ee42af91-bc7c-47b4-8bb7-9c78851981e3",
   "metadata": {
    "collapsed": true,
    "jupyter": {
     "outputs_hidden": true
    },
    "tags": []
   },
   "outputs": [
    {
     "data": {
      "text/plain": [
       "array([   0,    1,  289,  290,  291,  292,  293,  294,  295,  724,  725,\n",
       "       3185, 3186, 3187, 3188, 3189, 3190, 3191, 3323, 3324, 3325, 3326,\n",
       "       3327, 3328, 3329, 3330, 3331, 3332, 3333, 3334, 3335, 3681, 3682,\n",
       "       3683, 3684, 3685, 3686, 3687, 3689, 3690, 3691, 3692, 3693, 3694,\n",
       "       3695, 3696, 3697, 3698, 3699, 3700, 3701, 3702, 3703, 3915, 3916,\n",
       "       3917, 3918, 3919, 3920, 3921, 3922, 3923, 3924, 3925, 3926, 3927,\n",
       "       4145, 4146, 4147, 4148, 4149, 4150, 4151, 4489, 4490, 4491, 4492,\n",
       "       4493, 4494, 4495, 4593, 4594, 4595, 4596, 4597, 4598, 4599, 4865,\n",
       "       4866, 4867, 4868, 4869, 4870, 4871, 5345, 5346, 5347, 5348, 5349,\n",
       "       5350, 5351, 5745, 5746, 5747, 5748, 5749, 5750, 5751, 6113, 6114,\n",
       "       6115, 6116, 6117, 6118, 6119, 6121, 6122, 6123, 6124, 6125, 6126,\n",
       "       6127, 6249], dtype=int64)"
      ]
     },
     "execution_count": 21,
     "metadata": {},
     "output_type": "execute_result"
    }
   ],
   "source": [
    "minimum_list"
   ]
  },
  {
   "cell_type": "code",
   "execution_count": null,
   "id": "ef728a66-bcfb-4ba8-94be-c80dd3a90ac2",
   "metadata": {},
   "outputs": [],
   "source": [
    "def fconsec(dataframe, col1, col2, operator, colout):\n",
    "    \"\"\"\n",
    "    This functions takes the columns 1 and 2 (provide names without '') as input.\n",
    "    The output is the result of *operator* between two consecutive values (by index) in col1 and col2. \n",
    "    The output is stored in the new column colout.\n",
    "    \n",
    "    fconsec[i] = column1[i] * column2[i+1]\n",
    "    Operators: sum, difference, product\n",
    "    \"\"\"\n",
    "    for i in series:\n",
    "        try\n",
    "        if operator == sum:\n",
    "        dataframe.at[i,f'{colout}'] = waveform_table.at[i,f'{column1}'] + waveform_table.at[i+1,f'{column2}']\n",
    "        if operator == sum:\n",
    "        dataframe.at[i,f'{colout}'] = waveform_table.at[i,f'{column1}'] + waveform_table.at[i+1,f'{column2}']\n",
    "        if operator == sum:\n",
    "        dataframe.at[i,f'{colout}'] = waveform_table.at[i,f'{column1}'] + waveform_table.at[i+1,f'{column2}']"
   ]
  },
  {
   "cell_type": "code",
   "execution_count": 22,
   "id": "6d783465-01c0-4210-8bb5-3a36d7e73c89",
   "metadata": {},
   "outputs": [
    {
     "name": "stdout",
     "output_type": "stream",
     "text": [
      "1.5999999999999614e-10\n",
      "1.6000000000000937e-10\n",
      "1.5999999999999614e-10\n",
      "1.6000000000000276e-10\n",
      "1.5999999999999614e-10\n",
      "1.6000000000000276e-10\n",
      "1.5999999999999614e-10\n",
      "1.6000000000000276e-10\n",
      "1.6000000000000276e-10\n",
      "1.5999999999999945e-10\n",
      "1.5999999999999945e-10\n",
      "1.600000000000226e-10\n",
      "1.5999999999996967e-10\n",
      "1.600000000000226e-10\n",
      "1.5999999999996967e-10\n",
      "1.600000000000226e-10\n",
      "1.5999999999996967e-10\n",
      "1.600000000000226e-10\n",
      "1.600000000000226e-10\n",
      "1.5999999999996967e-10\n",
      "1.600000000000226e-10\n",
      "1.5999999999996967e-10\n",
      "1.600000000000226e-10\n",
      "1.600000000000226e-10\n",
      "1.5999999999996967e-10\n",
      "1.600000000000226e-10\n",
      "1.5999999999996967e-10\n",
      "1.600000000000226e-10\n",
      "1.5999999999996967e-10\n",
      "1.600000000000226e-10\n",
      "1.600000000000226e-10\n",
      "1.5999999999996967e-10\n",
      "1.6000000000007555e-10\n",
      "1.5999999999996967e-10\n",
      "1.5999999999996967e-10\n",
      "1.6000000000007555e-10\n",
      "1.5999999999996967e-10\n",
      "1.5999999999996967e-10\n",
      "1.6000000000007555e-10\n",
      "1.5999999999996967e-10\n",
      "1.5999999999996967e-10\n",
      "1.6000000000007555e-10\n",
      "1.5999999999996967e-10\n",
      "1.5999999999996967e-10\n",
      "1.5999999999996967e-10\n",
      "1.6000000000007555e-10\n",
      "1.5999999999996967e-10\n",
      "1.5999999999996967e-10\n",
      "1.6000000000007555e-10\n",
      "1.5999999999996967e-10\n",
      "1.5999999999996967e-10\n",
      "1.5999999999996967e-10\n",
      "1.6000000000007555e-10\n",
      "1.5999999999996967e-10\n",
      "1.6000000000007555e-10\n",
      "1.5999999999996967e-10\n",
      "1.5999999999996967e-10\n",
      "1.6000000000007555e-10\n",
      "1.5999999999996967e-10\n",
      "1.5999999999996967e-10\n",
      "1.5999999999996967e-10\n",
      "1.6000000000007555e-10\n",
      "1.5999999999996967e-10\n",
      "1.5999999999996967e-10\n",
      "1.6000000000007555e-10\n",
      "1.5999999999996967e-10\n",
      "1.5999999999996967e-10\n",
      "1.6000000000007555e-10\n",
      "1.5999999999996967e-10\n",
      "1.5999999999996967e-10\n",
      "1.5999999999996967e-10\n",
      "1.6000000000007555e-10\n",
      "1.5999999999996967e-10\n",
      "1.5999999999996967e-10\n",
      "1.5999999999996967e-10\n",
      "1.5999999999996967e-10\n",
      "1.6000000000007555e-10\n",
      "1.5999999999996967e-10\n",
      "1.5999999999996967e-10\n",
      "1.6000000000007555e-10\n",
      "1.6000000000007555e-10\n",
      "1.5999999999996967e-10\n",
      "1.5999999999996967e-10\n",
      "1.6000000000007555e-10\n",
      "1.5999999999996967e-10\n",
      "1.5999999999996967e-10\n",
      "1.5999999999996967e-10\n",
      "1.6000000000007555e-10\n",
      "1.5999999999996967e-10\n",
      "1.5999999999996967e-10\n",
      "1.5999999999996967e-10\n",
      "1.6000000000007555e-10\n",
      "1.5999999999996967e-10\n",
      "1.5999999999996967e-10\n",
      "1.5999999999996967e-10\n",
      "1.5999999999996967e-10\n",
      "1.6000000000007555e-10\n",
      "1.5999999999996967e-10\n",
      "1.5999999999996967e-10\n",
      "1.6000000000007555e-10\n",
      "1.5999999999996967e-10\n",
      "1.6000000000007555e-10\n",
      "1.5999999999996967e-10\n",
      "1.5999999999996967e-10\n",
      "1.6000000000007555e-10\n",
      "1.5999999999996967e-10\n",
      "1.5999999999996967e-10\n",
      "1.5999999999996967e-10\n",
      "1.5999999999996967e-10\n",
      "1.5999999999996967e-10\n",
      "1.6000000000007555e-10\n",
      "1.5999999999996967e-10\n",
      "1.5999999999996967e-10\n",
      "1.6000000000007555e-10\n",
      "1.5999999999996967e-10\n",
      "1.5999999999996967e-10\n",
      "1.6000000000007555e-10\n",
      "1.5999999999996967e-10\n",
      "1.5999999999996967e-10\n",
      "1.6000000000007555e-10\n",
      "1.5999999999996967e-10\n",
      "1.5999999999996967e-10\n",
      "-9.998075e-07\n"
     ]
    }
   ],
   "source": [
    "for i in minimum_list:\n",
    "    waveform_table.at[i,'Deltat'] = waveform_table.at[i,'TIME'] - waveform_table.at[i-1,'TIME']\n",
    "    # print(waveform_table.at[i+1,'TIME'] - waveform_table.at[i,'TIME'])"
   ]
  },
  {
   "cell_type": "markdown",
   "id": "4fdbe3bb-ac16-43eb-83b3-1c1fcde9e6c8",
   "metadata": {},
   "source": [
    "## Goals, tips and tricks\n",
    "\n",
    "You have to find an automated way to find the \"good\" absolute minimum.\n",
    "How?\n",
    "\n",
    "1. Extrapolate baseline: evaluate it by using only pre-trigger amplitudes.\n",
    "2. Raise an error or quarantine the snippet if you have a number of minima that is too big\n",
    "3. Evaluate the derivative of the ramp up of a peak\n",
    "4. Dark count rate is number of total events / total time\n",
    "5. Discriminate if two peaks have a distance between each other that is too small (is less than the width of the window)\n",
    "\n",
    "Options to follow:\n",
    "\n",
    "1. Throw away all noise: if the waveform is not good (has more than one minimum that goes over the threshold) throw it away completely; have to count all the waveforms that are thrown and estimate fraction of total events\n",
    "2. Check on saturated events: must be true to have points over the threshold and also have some number of points (like, 10) in a very narrow range of values (all equal)\n",
    "\n",
    "Final goals:\n",
    "\n",
    "1. Create 2D plot with time deltas (x) and amplitude (y): time deltas are the differences between timestamps of any two successive \"good\" peaks"
   ]
  }
 ],
 "metadata": {
  "kernelspec": {
   "display_name": "Python 3",
   "language": "python",
   "name": "python3"
  },
  "language_info": {
   "codemirror_mode": {
    "name": "ipython",
    "version": 3
   },
   "file_extension": ".py",
   "mimetype": "text/x-python",
   "name": "python",
   "nbconvert_exporter": "python",
   "pygments_lexer": "ipython3",
   "version": "3.8.0"
  }
 },
 "nbformat": 4,
 "nbformat_minor": 5
}
