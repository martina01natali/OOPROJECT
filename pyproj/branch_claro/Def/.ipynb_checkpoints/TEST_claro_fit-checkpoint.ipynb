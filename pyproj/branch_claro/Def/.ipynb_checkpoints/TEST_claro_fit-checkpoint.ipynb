{
 "cells": [
  {
   "cell_type": "markdown",
   "id": "9f9be230-4ae9-4689-9337-003d4e97d63b",
   "metadata": {},
   "source": [
    "# TEST - Claro loop + fit"
   ]
  },
  {
   "cell_type": "code",
   "execution_count": 1,
   "id": "634780a6-fe78-4124-b27c-f056056b65e9",
   "metadata": {},
   "outputs": [],
   "source": [
    "from claro_fit import *\n",
    "from matplotlib.backends.backend_pdf import PdfPages"
   ]
  },
  {
   "cell_type": "code",
   "execution_count": 2,
   "id": "1cd6dfaf-a3b5-4758-84d7-d3b5f5d4c656",
   "metadata": {},
   "outputs": [
    {
     "name": "stdin",
     "output_type": "stream",
     "text": [
      "The default subfolders' paths are *Station_1__*\\Station_1__??_Summary\\Chip_???\\S_curve.\n",
      "The default file names are Ch_*_offset_*_Chip_*.txt.\n",
      "To confirm, press Enter. Press any other key to change the paths.\n",
      " \n"
     ]
    },
    {
     "name": "stdout",
     "output_type": "stream",
     "text": [
      "Processing file n. 10...a in: C:\\Users\\MARTINA\\Desktop\\secondolotto_1\\Station_1__11\\Station_1__11_Summary\\Chip_001\\S_curve\\Ch_8_offset_0_Chip_001.txt. First word: #. Going on...\n",
      "\n",
      "Process completed in 17.09 s.\n",
      "\n",
      "Total number of files found: 10.\n",
      "Total number of good files: 9. Output paths to good files are stored in claro_files.txt\n",
      "Total number of bad files: 1 (10.0%) out of total). Output paths to bad files are stored in bad_files.txt\n"
     ]
    }
   ],
   "source": [
    "a = fileinfo('C:\\\\Users\\\\MARTINA\\\\Desktop\\\\secondolotto_1\\\\', custom_n_files=10, log=False)"
   ]
  },
  {
   "cell_type": "code",
   "execution_count": 6,
   "id": "4f603701-d79a-4574-9cb0-e112b194b1f7",
   "metadata": {
    "tags": []
   },
   "outputs": [
    {
     "data": {
      "text/plain": [
       "{'path': 'C:\\\\Users\\\\MARTINA\\\\Desktop\\\\secondolotto_1\\\\Station_1__11\\\\Station_1__11_Summary\\\\Chip_001\\\\S_curve\\\\Ch_1_offset_0_Chip_001.txt',\n",
       " 'station': '1',\n",
       " 'sub': '11',\n",
       " 'chip': '001',\n",
       " 'ch': '1',\n",
       " 'offset': '0',\n",
       " 'amplitude': 1000.07304,\n",
       " 'transition': 233.74269,\n",
       " 'width': -1.841865}"
      ]
     },
     "execution_count": 6,
     "metadata": {},
     "output_type": "execute_result"
    }
   ],
   "source": [
    "fileinfo_find(a, chip='001', ch='1')"
   ]
  },
  {
   "cell_type": "code",
   "execution_count": 63,
   "id": "59e2a0e0-3c8b-4695-b2f8-f206334d6b48",
   "metadata": {},
   "outputs": [
    {
     "name": "stdin",
     "output_type": "stream",
     "text": [
      "How many plots do you want per page? Allowed values are 1,2,3,4,6.  6\n"
     ]
    }
   ],
   "source": [
    "# Loop on the files and print plots on multi-page pdf\n",
    "\n",
    "custom_n_files = 'all'     # This is used to break the printing of plots: comment the line\n",
    "                        # or assign to 'all' to plot all the files\n",
    "\n",
    "log_choice = True\n",
    "save_choice = False\n",
    "save_path = 'aHundredPlots.pdf'\n",
    "\n",
    "# Histograms of transition points and widths\n",
    "tw_hist = True # Choose True or False for plotting, showing and saving\n",
    "t_list = []\n",
    "w_list = []\n",
    "\n",
    "with PdfPages(save_path) as pdf:\n",
    "    \n",
    "    per_page = int(input(\"How many plots do you want per page? Allowed values are 1,2,3,4,6. \"))\n",
    "    if per_page==1: nrows, ncols = 1, 1\n",
    "    elif per_page==2: nrows, ncols = 2, 1\n",
    "    elif per_page==3: nrows, ncols = 3, 1\n",
    "    elif per_page==4: nrows, ncols = 2, 2\n",
    "    elif per_page==6: nrows, ncols = 3, 2\n",
    "    else: raise NameError(\"Please run again and choose one of the allowed number of subplots.\")\n",
    "    \n",
    "    for n, file in enumerate(a.values()): # file is the sub-dict, access keys via file['key']\n",
    "\n",
    "        # Preprocessing\n",
    "        x,y,meta = read_data(file['path'])\n",
    "        # with warnings.catch_warnings():\n",
    "        #    warnings.simplefilter(\"ignore\")\n",
    "        metafit = fit_erf(x,y,meta, interactive=False, log=log_choice)\n",
    "        meta['fit_dict'] = metafit\n",
    "        \n",
    "        # Building histogram of transition points and widths\n",
    "        t_list.append(meta['transition'])\n",
    "        w_list.append(meta['width'])\n",
    "        \n",
    "        # Plotting and saving on multipage pdf\n",
    "        if isinstance(custom_n_files,int):\n",
    "            if n>=custom_n_files: continue\n",
    "        index = n%per_page+1\n",
    "        if index==1:\n",
    "            fig=plt.figure(figsize=(10,15)) \n",
    "        fig.add_subplot(nrows,ncols,index)\n",
    "        plot_fit(x, y, metafit, fileinfo=file, show=True, save=False, log=log_choice)\n",
    "        if index==per_page or n==len(a.values())-1:\n",
    "            if save_choice: pdf.savefig(fig)\n",
    "            plt.close(fig)\n",
    "    plt.close()\n",
    "\n",
    "# Histograms of transition points and widths\n",
    "fig, ax = plt.subplots(nrows=1, ncols=2)\n",
    "hist_tw(t_list, w_list, ax)\n",
    "plt.savefig('Hist_tw.pdf',)\n",
    "plt.close()"
   ]
  },
  {
   "cell_type": "markdown",
   "id": "6c42d2ff-78f9-426e-a7b3-f7cb0d789377",
   "metadata": {},
   "source": [
    "## Support cells"
   ]
  }
 ],
 "metadata": {
  "kernelspec": {
   "display_name": "oop",
   "language": "python",
   "name": "oop"
  },
  "language_info": {
   "codemirror_mode": {
    "name": "ipython",
    "version": 3
   },
   "file_extension": ".py",
   "mimetype": "text/x-python",
   "name": "python",
   "nbconvert_exporter": "python",
   "pygments_lexer": "ipython3",
   "version": "3.9.7"
  }
 },
 "nbformat": 4,
 "nbformat_minor": 5
}
