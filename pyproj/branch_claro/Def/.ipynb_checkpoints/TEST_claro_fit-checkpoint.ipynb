{
 "cells": [
  {
   "cell_type": "markdown",
   "id": "9f9be230-4ae9-4689-9337-003d4e97d63b",
   "metadata": {},
   "source": [
    "# TEST - Claro loop + fit"
   ]
  },
  {
   "cell_type": "code",
   "execution_count": 1,
   "id": "634780a6-fe78-4124-b27c-f056056b65e9",
   "metadata": {},
   "outputs": [],
   "source": [
    "from claro_fit import *"
   ]
  },
  {
   "cell_type": "code",
   "execution_count": 3,
   "id": "1cd6dfaf-a3b5-4758-84d7-d3b5f5d4c656",
   "metadata": {},
   "outputs": [
    {
     "name": "stdin",
     "output_type": "stream",
     "text": [
      "The default subfolders' paths are *Station_1__*\\Station_1__??_Summary\\Chip_???\\S_curve.\n",
      "The default file names are Ch_*_offset_*_Chip_*.txt.\n",
      "To confirm, press Enter. Press any other key to change the paths.\n",
      " \n"
     ]
    },
    {
     "name": "stdout",
     "output_type": "stream",
     "text": [
      "Error: Couldn't read data in: C:\\Users\\MARTINA\\Desktop\\secondolotto_1\\Station_1__11\\Station_1__11_Summary\\Chip_147\\S_curve\\Ch_1_offset_0_Chip_147.txt.                            First word: error. Going on...\n",
      "\n",
      "Process completed in 16.41 s.\n",
      "\n",
      "Total number of files found: 1000.\n",
      "Total number of good files: 986. Output paths to good files are stored in claro_files.txt\n",
      "Total number of bad files: 14 (1.4%) out of total). Output paths to bad files are stored in bad_files.txt\n"
     ]
    }
   ],
   "source": [
    "a = fileinfo('C:\\\\Users\\\\MARTINA\\\\Desktop\\\\secondolotto_1\\\\', custom_n_files=1000)"
   ]
  },
  {
   "cell_type": "code",
   "execution_count": 4,
   "id": "fc82c090-6034-4cf4-b186-1a5d75147e26",
   "metadata": {},
   "outputs": [
    {
     "data": {
      "text/plain": [
       "'C:\\\\Users\\\\MARTINA\\\\Desktop\\\\secondolotto_1\\\\Station_1__11\\\\Station_1__11_Summary\\\\Chip_002\\\\S_curve\\\\Ch_1_offset_0_Chip_002.txt'"
      ]
     },
     "execution_count": 4,
     "metadata": {},
     "output_type": "execute_result"
    }
   ],
   "source": [
    "fileinfo_find(a, chip='002', ch='1')"
   ]
  },
  {
   "cell_type": "code",
   "execution_count": 6,
   "id": "b4a87632-9213-4c0c-8dda-ecf1aeb4eb42",
   "metadata": {},
   "outputs": [],
   "source": [
    "def plot_fit(ax, x, y, metafit, fileinfo, npoints=1000,\n",
    "             interactive=False, log=True,\n",
    "             show_scatter=True, show_fit=True, show_transition=True,\n",
    "             save=False, save_path='.\\plot', save_format='pdf', show=True,\n",
    "             **kwargs):\n",
    "    \"\"\"[Function documentation]\n",
    "    \n",
    "    \"\"\"\n",
    "    \n",
    "    title = f\"Fit CLARO: station {fileinfo['station']}, chip {fileinfo['chip']}, ch {fileinfo['ch']}\"\n",
    "    \n",
    "    font = {\n",
    "    'fontsize': plt.rcParams['axes.titlesize'],\n",
    "    'fontweight' : plt.rcParams['axes.titleweight'],\n",
    "    'verticalalignment': 'baseline',\n",
    "    # 'horizontalalignment': plt.loc,\n",
    "    }\n",
    "    \n",
    "    # plt.figure(figsize=(5,5), tight_layout=True)\n",
    "    ax.set_title(title, fontdict=font)\n",
    "    \n",
    "    # Show scatterplot of data (default = True)\n",
    "    if show_scatter == True:\n",
    "        ax.scatter(x, y, label='Data points', zorder=2)\n",
    "        ax.annotate(f\"From data file\\nTransition = {fileinfo['transition']:.2f}\\n\"\n",
    "                     +f\"Width = {fileinfo['width']:.2f}\",\n",
    "                     xy=(0.025, .975), xycoords='axes fraction',\n",
    "                     verticalalignment='top', color='gray', alpha=0.8)\n",
    "        ax.set_xlabel('x [arb units]', fontdict=font)\n",
    "        ax.set_ylabel('y [arb units]', fontdict=font)\n",
    "        # plt.legend(loc='lower right', fontsize = 8)\n",
    "    \n",
    "    try:\n",
    "        if metafit['code']=='bad':\n",
    "            if log==True:\n",
    "                with open(\"log_unplot.txt\", \"a\") as output:\n",
    "                    output.write(fileinfo['path']+\"\\n\")\n",
    "            raise ValueError(\"Error: the provided fit has invalid parameters. \"\n",
    "                             +f\"Plot {title} will not be plotted. Unfitted files' paths in log_unplot.txt\\r\")\n",
    "    \n",
    "        # x,y data computed as a grid of npoints and using parameters of the fit\n",
    "        fit_params = metafit['params']\n",
    "        fit_errs = metafit['errors']\n",
    "        \n",
    "        xfit = np.linspace(x.min(), x.max(), npoints)\n",
    "        yfit= func(xfit, *fit_params)\n",
    "        \n",
    "                             \n",
    "        # Show plot of fit (default = True)\n",
    "        if show_fit == True: \n",
    "            ax.plot(xfit, yfit, label='erf fit', zorder=1, color='r', alpha=0.8)\n",
    "            ax.annotate(f\"Fit parameters\\nAmplitude = ({fit_params[0]:.2f}\"+r\" $\\pm$ \"+f\"{fit_errs[0]:.2f})\\n\"\n",
    "                         +f\"Transition = ({fit_params[1]:.2f}\"+r\" $\\pm$ \"+f\"{fit_errs[1]:.2E})\\n\"\n",
    "                         +f\"Width = ({fit_params[2]*2:.2f}\"+r\" $\\pm$ \"+f\"{fit_errs[2]*2:.2E})\",\n",
    "                         xy=(0.025, .3), xycoords='axes fraction', verticalalignment='top',\n",
    "                         color='r', alpha=0.8,\n",
    "                         bbox=dict(boxstyle=\"square\", fc=\"white\", ec=\"black\", lw=1, alpha=0.8))\n",
    "            \n",
    "        # Show transition point\n",
    "        if show_transition == True:\n",
    "            xtrans = fit_params[1]\n",
    "            ytrans = func(xtrans, *fit_params)\n",
    "            ax.scatter(xtrans, ytrans, s=100, c='darkred', marker='*',\n",
    "                        zorder=2, label='Transition point')\n",
    "            ax.vlines(x=xtrans, ymin=y[0], ymax=y[-1], linestyles='dashed',\n",
    "                        alpha=0.5, zorder=1)\n",
    "            ax.hlines(y=ytrans, xmin=x[0], xmax=x[-1], linestyles='dashed',\n",
    "                        alpha=0.5, zorder=1)\n",
    "            ax.annotate(f\"Transition = {fit_params[1]:.2f}\\nWidth = {fit_params[2]*2:.2f}\", \n",
    "                         xy=(0.025, .6), xycoords='axes fraction', verticalalignment='top',)\n",
    "\n",
    "    except ValueError as err: \n",
    "        if interactive==True: print(err)\n",
    "    \n",
    "    if save == True:\n",
    "        plt.savefig(save_path+'.'+save_format)\n",
    "    \n",
    "    if show == True:\n",
    "        plt.show()\n",
    "        plt.close()\n",
    "    else:\n",
    "        plt.close()"
   ]
  },
  {
   "cell_type": "code",
   "execution_count": 4,
   "id": "3984c3cc-25a5-40b4-9116-042b280f72f9",
   "metadata": {},
   "outputs": [],
   "source": [
    "fig, ax = plt.subplots(nrows=3, ncols=2, figsize=(8,12))"
   ]
  },
  {
   "cell_type": "code",
   "execution_count": 4,
   "id": "6da8b5c0-5664-4d9e-878b-c9b1493350f3",
   "metadata": {},
   "outputs": [],
   "source": [
    "# plt.figure(n)\n",
    "# plt.subplots(nrows,ncols,n)"
   ]
  },
  {
   "cell_type": "code",
   "execution_count": 32,
   "id": "a96f0f78-1dd1-4217-bcae-fa9161ba6c7b",
   "metadata": {},
   "outputs": [],
   "source": [
    "# %matplotlib\n",
    "\n",
    "fig = plt.figure(edgecolor='black')\n",
    "#fig.add_subplot(111)\n",
    "fig.show()"
   ]
  },
  {
   "cell_type": "code",
   "execution_count": 4,
   "id": "4c1b36e5-1207-4e61-9cda-fc5c51e8963e",
   "metadata": {},
   "outputs": [],
   "source": [
    "counter = 0\n",
    "for file in a.values(): # file is the sub-dict, access keys via file['key']\n",
    "    counter += 1\n",
    "    x,y,meta = read_data(file['path'])\n",
    "    metafit = fit_erf(x,y,meta, interactive=False, log=False)\n",
    "    axis = ax[][]\n",
    "    plot_fit(ax[][], x, y, metafit, fileinfo=file, show=True, save=False, log=False)\n",
    "    break"
   ]
  }
 ],
 "metadata": {
  "kernelspec": {
   "display_name": "oop",
   "language": "python",
   "name": "oop"
  },
  "language_info": {
   "codemirror_mode": {
    "name": "ipython",
    "version": 3
   },
   "file_extension": ".py",
   "mimetype": "text/x-python",
   "name": "python",
   "nbconvert_exporter": "python",
   "pygments_lexer": "ipython3",
   "version": "3.9.7"
  }
 },
 "nbformat": 4,
 "nbformat_minor": 5
}
