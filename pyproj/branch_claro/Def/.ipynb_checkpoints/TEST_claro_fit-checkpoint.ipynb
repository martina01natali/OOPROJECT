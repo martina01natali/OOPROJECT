{
 "cells": [
  {
   "cell_type": "markdown",
   "id": "9f9be230-4ae9-4689-9337-003d4e97d63b",
   "metadata": {},
   "source": [
    "# TEST - Claro loop + fit"
   ]
  },
  {
   "cell_type": "code",
   "execution_count": 1,
   "id": "634780a6-fe78-4124-b27c-f056056b65e9",
   "metadata": {},
   "outputs": [],
   "source": [
    "from claro_fit import *\n",
    "from matplotlib.backends.backend_pdf import PdfPages"
   ]
  },
  {
   "cell_type": "code",
   "execution_count": 2,
   "id": "1cd6dfaf-a3b5-4758-84d7-d3b5f5d4c656",
   "metadata": {},
   "outputs": [
    {
     "name": "stdin",
     "output_type": "stream",
     "text": [
      "The default subfolders' paths are *Station_1__*\\Station_1__??_Summary\\Chip_???\\S_curve.\n",
      "The default file names are Ch_*_offset_*_Chip_*.txt.\n",
      "To confirm, press Enter. Press any other key to change the paths.\n",
      " \n"
     ]
    },
    {
     "name": "stdout",
     "output_type": "stream",
     "text": [
      "Error: Couldn't read data in: C:\\Users\\MARTINA\\Desktop\\secondolotto_1\\Station_1__36\\Station_1__36_Summary\\Chip_180\\S_curve\\Ch_0_offset_0_Chip_180.txt.                            First word: error. Going on....\n",
      "\n",
      "Process completed in 82.63 s.\n",
      "\n",
      "Total number of files found: 41461.\n",
      "Total number of good files: 40911. Output paths to good files are stored in claro_files.txt\n",
      "Total number of bad files: 550 (1.3%) out of total). Output paths to bad files are stored in bad_files.txt\n"
     ]
    }
   ],
   "source": [
    "a = fileinfo('C:\\\\Users\\\\MARTINA\\\\Desktop\\\\secondolotto_1\\\\', custom_n_files='all')"
   ]
  },
  {
   "cell_type": "raw",
   "id": "24e65db9-cfb0-48e8-95d7-61e3745a20ca",
   "metadata": {
    "tags": []
   },
   "source": [
    "fileinfo_find(a, chip='002', ch='1')"
   ]
  },
  {
   "cell_type": "code",
   "execution_count": 8,
   "id": "05e118ed-e03b-42e0-ab20-22c607453b15",
   "metadata": {},
   "outputs": [
    {
     "name": "stdin",
     "output_type": "stream",
     "text": [
      "How many plots do you want per page? Allowed values are 1,2,3,4,6.  6\n"
     ]
    }
   ],
   "source": [
    "# Loop on the files and print plots on multi-page pdf\n",
    "\n",
    "custom_n_files = 100    # This is used to break the printing of plots, comment the line\n",
    "                        # or assign to 'all' to plot all the files\n",
    "\n",
    "save_path = 'aHundredPlots.pdf'\n",
    "with PdfPages(save_path) as pdf:\n",
    "    \n",
    "    per_page = int(input(\"How many plots do you want per page? Allowed values are 1,2,3,4,6. \"))\n",
    "    if per_page==1: nrows, ncols = 1, 1\n",
    "    elif per_page==2: nrows, ncols = 2, 1\n",
    "    elif per_page==3: nrows, ncols = 3, 1\n",
    "    elif per_page==4: nrows, ncols = 2, 2\n",
    "    elif per_page==6: nrows, ncols = 3, 2\n",
    "    else: raise NameError(\"Please run again and choose one of the allowed number of subplots.\")\n",
    "    \n",
    "    for n, file in enumerate(a.values()): # file is the sub-dict, access keys via file['key']\n",
    "\n",
    "        # Preprocessing\n",
    "        x,y,meta = read_data(file['path'])\n",
    "        with warnings.catch_warnings():\n",
    "            warnings.simplefilter(\"ignore\")\n",
    "            metafit = fit_erf(x,y,meta, interactive=False, log=True)\n",
    "        \n",
    "        # Plotting and saving on multipage pdf\n",
    "        if n>=custom_n_files: continue\n",
    "        index = n%per_page+1\n",
    "        if index==1:\n",
    "            fig=plt.figure(figsize=(10,15)) \n",
    "        fig.add_subplot(nrows,ncols,index)\n",
    "        plot_fit(x, y, metafit, fileinfo=file, show=True, save=False, log=True)\n",
    "        if index==per_page or n==len(a.values())-1:\n",
    "            pdf.savefig(fig)\n",
    "            plt.close(fig)\n",
    "            \n",
    "    plt.close()"
   ]
  }
 ],
 "metadata": {
  "kernelspec": {
   "display_name": "oop",
   "language": "python",
   "name": "oop"
  },
  "language_info": {
   "codemirror_mode": {
    "name": "ipython",
    "version": 3
   },
   "file_extension": ".py",
   "mimetype": "text/x-python",
   "name": "python",
   "nbconvert_exporter": "python",
   "pygments_lexer": "ipython3",
   "version": "3.9.7"
  }
 },
 "nbformat": 4,
 "nbformat_minor": 5
}
