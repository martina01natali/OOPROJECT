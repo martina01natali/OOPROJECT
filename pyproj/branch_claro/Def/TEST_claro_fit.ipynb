{
 "cells": [
  {
   "cell_type": "markdown",
   "id": "9f9be230-4ae9-4689-9337-003d4e97d63b",
   "metadata": {},
   "source": [
    "# TEST - Claro loop + fit"
   ]
  },
  {
   "cell_type": "code",
   "execution_count": null,
   "id": "634780a6-fe78-4124-b27c-f056056b65e9",
   "metadata": {},
   "outputs": [],
   "source": [
    "from claro_fit import *"
   ]
  },
  {
   "cell_type": "code",
   "execution_count": null,
   "id": "1cd6dfaf-a3b5-4758-84d7-d3b5f5d4c656",
   "metadata": {},
   "outputs": [],
   "source": [
    "a = fileinfo('C:\\\\Users\\\\MARTINA\\\\Desktop\\\\secondolotto_1\\\\', custom_n_files='all')"
   ]
  },
  {
   "cell_type": "code",
   "execution_count": null,
   "id": "fc82c090-6034-4cf4-b186-1a5d75147e26",
   "metadata": {},
   "outputs": [],
   "source": [
    "# fileinfo_find(a, chip='002', ch='1')"
   ]
  },
  {
   "cell_type": "code",
   "execution_count": null,
   "id": "7d146490-e4cf-4abc-b98e-7df273208f56",
   "metadata": {},
   "outputs": [],
   "source": [
    "counter = 0\n",
    "for file in a.values(): # file is the sub-dict, access keys via file['key']\n",
    "    counter += 1\n",
    "    x,y,meta = read_data(file['path'])\n",
    "    metafit = fit_erf(x,y,meta, interactive=False, log=False)\n",
    "    plot_fit(x, y, metafit, fileinfo=file, show=True, save=False, log=False)\n",
    "    break"
   ]
  }
 ],
 "metadata": {
  "kernelspec": {
   "display_name": "oop",
   "language": "python",
   "name": "oop"
  },
  "language_info": {
   "codemirror_mode": {
    "name": "ipython",
    "version": 3
   },
   "file_extension": ".py",
   "mimetype": "text/x-python",
   "name": "python",
   "nbconvert_exporter": "python",
   "pygments_lexer": "ipython3",
   "version": "3.9.7"
  }
 },
 "nbformat": 4,
 "nbformat_minor": 5
}
