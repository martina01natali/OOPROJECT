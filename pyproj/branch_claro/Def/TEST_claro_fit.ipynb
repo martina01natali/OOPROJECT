{
 "cells": [
  {
   "cell_type": "markdown",
   "id": "9f9be230-4ae9-4689-9337-003d4e97d63b",
   "metadata": {},
   "source": [
    "# TEST - Claro loop + fit"
   ]
  },
  {
   "cell_type": "code",
   "execution_count": 1,
   "id": "634780a6-fe78-4124-b27c-f056056b65e9",
   "metadata": {},
   "outputs": [],
   "source": [
    "from claro_fit import *\n",
    "from matplotlib.backends.backend_pdf import PdfPages"
   ]
  },
  {
   "cell_type": "code",
   "execution_count": 2,
   "id": "1cd6dfaf-a3b5-4758-84d7-d3b5f5d4c656",
   "metadata": {},
   "outputs": [
    {
     "name": "stdin",
     "output_type": "stream",
     "text": [
      "The default subfolders' paths are *Station_1__*\\Station_1__??_Summary\\Chip_???\\S_curve.\n",
      "The default file names are Ch_*_offset_*_Chip_*.txt.\n",
      "To confirm, press Enter. Press any other key to change the paths.\n",
      " \n"
     ]
    },
    {
     "name": "stdout",
     "output_type": "stream",
     "text": [
      "Processing file n. 41461...n: C:\\Users\\MARTINA\\Desktop\\secondolotto_1\\Station_1__36\\Station_1__36_Summary\\Chip_180\\S_curve\\Ch_0_offset_0_Chip_180.txt. First word: error. Going on....\n",
      "\n",
      "Process completed in 48.01 s.\n",
      "\n",
      "Total number of files found: 41461.\n",
      "Total number of good files: 40911. Output paths to good files are stored in claro_files.txt\n",
      "Total number of bad files: 550 (1.3%) out of total). Output paths to bad files are stored in bad_files.txt\n"
     ]
    }
   ],
   "source": [
    "a = fileinfo('C:\\\\Users\\\\MARTINA\\\\Desktop\\\\secondolotto_1\\\\', custom_n_files='all', log=False)"
   ]
  },
  {
   "cell_type": "code",
   "execution_count": 3,
   "id": "4f603701-d79a-4574-9cb0-e112b194b1f7",
   "metadata": {
    "tags": []
   },
   "outputs": [
    {
     "data": {
      "text/plain": [
       "{'path': 'C:\\\\Users\\\\MARTINA\\\\Desktop\\\\secondolotto_1\\\\Station_1__11\\\\Station_1__11_Summary\\\\Chip_001\\\\S_curve\\\\Ch_1_offset_0_Chip_001.txt',\n",
       " 'station': '1',\n",
       " 'sub': '11',\n",
       " 'chip': '001',\n",
       " 'ch': '1',\n",
       " 'offset': '0',\n",
       " 'amplitude': 1000.07304,\n",
       " 'transition': 233.74269,\n",
       " 'width': -1.841865}"
      ]
     },
     "execution_count": 3,
     "metadata": {},
     "output_type": "execute_result"
    }
   ],
   "source": [
    "fileinfo_find(a, chip='001', ch='1')"
   ]
  },
  {
   "cell_type": "code",
   "execution_count": 5,
   "id": "f8e19b80-b71e-4090-846c-1e6790bd49a3",
   "metadata": {},
   "outputs": [
    {
     "name": "stdin",
     "output_type": "stream",
     "text": [
      "How many plots do you want per page? Allowed values are 1,2,3,4,6.  6\n"
     ]
    },
    {
     "name": "stdout",
     "output_type": "stream",
     "text": [
      "Reading file n. 40910...\r"
     ]
    }
   ],
   "source": [
    "# Loop on the files and print plots on multi-page pdf\n",
    "\n",
    "custom_n_files = 100     # This is used to break the printing of plots: comment the line\n",
    "                        # or assign to 'all' to plot all the files\n",
    "\n",
    "log_choice = False\n",
    "save_choice = False\n",
    "save_path = 'aHundredPlots.pdf'\n",
    "\n",
    "# Histograms of transition points and widths\n",
    "tw_hist = True # Choose True or False for plotting, showing and saving\n",
    "t_list = []\n",
    "w_list = []\n",
    "\n",
    "with PdfPages(save_path) as pdf:\n",
    "    \n",
    "    per_page = int(input(\"How many plots do you want per page? Allowed values are 1,2,3,4,6. \"))\n",
    "    if per_page==1: nrows, ncols = 1, 1\n",
    "    elif per_page==2: nrows, ncols = 2, 1\n",
    "    elif per_page==3: nrows, ncols = 3, 1\n",
    "    elif per_page==4: nrows, ncols = 2, 2\n",
    "    elif per_page==6: nrows, ncols = 3, 2\n",
    "    else: raise NameError(\"Please run again and choose one of the allowed number of subplots.\")\n",
    "    \n",
    "    for n, file in enumerate(a.values()): # file is the sub-dict, access keys via file['key']\n",
    "\n",
    "        # Preprocessing\n",
    "        print(f\"Reading file n. {n}...\", end='\\r')\n",
    "        x,y,meta = read_data(file['path'])\n",
    "        with warnings.catch_warnings():\n",
    "            warnings.simplefilter(\"ignore\")\n",
    "            metafit = fit_erf(x,y,meta, interactive=False, log=log_choice)\n",
    "\n",
    "        meta['fit_dict'] = metafit\n",
    "        \n",
    "        # Building histogram of transition points and widths\n",
    "        t_list.append(meta['transition'])\n",
    "        w_list.append(meta['width'])\n",
    "        \n",
    "        # Plotting and saving on multipage pdf\n",
    "        if isinstance(custom_n_files,int):\n",
    "            if n>=custom_n_files: continue\n",
    "        index = n%per_page+1\n",
    "        if index==1:\n",
    "            fig=plt.figure(figsize=(10,15)) \n",
    "        fig.add_subplot(nrows,ncols,index)\n",
    "        plot_fit(x, y, metafit, fileinfo=file, show=True, save=False, log=log_choice)\n",
    "        if index==per_page or n==len(a.values())-1:\n",
    "            if save_choice: pdf.savefig(fig)\n",
    "            plt.close(fig)\n",
    "    plt.close()"
   ]
  },
  {
   "cell_type": "code",
   "execution_count": 129,
   "id": "30363d01-2f89-492d-8590-34dcfb15a423",
   "metadata": {},
   "outputs": [],
   "source": [
    "def hist_tw(t_list, w_list, ax):\n",
    "    \n",
    "    import scipy.stats as ss\n",
    "    from matplotlib.ticker import MaxNLocator\n",
    "    \n",
    "    # Gaussian fit\n",
    "    # for data in [w_list, t_list]:\n",
    "        # x_grid = list(range(min(data),max(data),(max(data)-min(data))/1000))\n",
    "        # mu, sigma = scipy.stats.norm.fit(data)\n",
    "        # best_fit = scipy.stats.norm.pdf(bins, mu, sigma)\n",
    "    \n",
    "    annotation_kwargs = {'xy':(.1,.9), 'xycoords':'axes fraction',\n",
    "                         'bbox':dict(boxstyle=\"round\",edgecolor=\"black\",facecolor=\"white\",alpha=.8)}\n",
    "    \n",
    "    # Transition histogram\n",
    "    ax[0].set_title(\"Transition points' histogram\", fontsize=12)\n",
    "    ax[0].tick_params(axis='y', which='minor', width=0)\n",
    "    ax[0].yaxis.set_major_locator(MaxNLocator(integer=True))\n",
    "    \n",
    "    # Widths' histogram\n",
    "    ax[1].set_title(\"Widths' histogram\", fontsize=12)\n",
    "    ax[1].tick_params(axis='y', which='minor', width=0)\n",
    "    ax[1].yaxis.set_major_locator(MaxNLocator(integer=True))\n",
    "\n",
    "    # Gaussian fit\n",
    "    # Un-normalized gaussian is given multiplying pdf by integral of histogram\n",
    "    for n, data in enumerate([t_list, w_list]):\n",
    "        counts, bins, pads = ax[n].hist(data, bins=int(np.sqrt(len(data))/4), density=False,\n",
    "                                    color='green', label='Transition points (x)', alpha=1,\n",
    "                                    log=False, rwidth=1)\n",
    "        mu, sigma = ss.norm.fit(data)\n",
    "        x = np.linspace(min(data), max(data), 1000)\n",
    "        fit = ss.norm.pdf(x, mu, sigma)*len(data)*(bins[1]-bins[0])\n",
    "        ax[n].plot(x, fit)\n",
    "        ax[n].annotate(f\"N entries: {len(data)}\\n\"\\\n",
    "                       +\"Mean: {:.2f}\\n\".format(mu)\\\n",
    "                       +\"Dev: {:.2f}\\n\".format(sigma),\n",
    "                       **annotation_kwargs)\n",
    "    \n",
    "\n",
    "    # n, wbins, pads = ax[1].hist(w_list, bins=int(np.sqrt(len(w_list))/4), \n",
    "    #            color='orange', label='Widths', alpha=1, log=True, \n",
    "    #            rwidth=1)\n",
    "    # ax[1].annotate(f\"N entries: {len(t_list)}\", **annotation_kwargs)"
   ]
  },
  {
   "cell_type": "code",
   "execution_count": 272,
   "id": "375f3bdc-3fa2-492f-b256-45d34ef13f77",
   "metadata": {},
   "outputs": [],
   "source": [
    "def hist_tw(t_list, w_list, ax):\n",
    "    \n",
    "    import scipy.stats as ss\n",
    "    from matplotlib.ticker import MaxNLocator\n",
    "    \n",
    "    annotation_kwargs = {'xy':(.1,.5), 'xycoords':'axes fraction',\n",
    "                         'bbox':dict(boxstyle=\"round\",edgecolor=\"black\",facecolor=\"white\",alpha=.8)}\n",
    "    \n",
    "    # Transition histogram\n",
    "    ax[0].set_title(\"Transition points' histogram\", fontsize=12)\n",
    "    ax[0].tick_params(axis='y', which='minor', width=0)\n",
    "    ax[0].yaxis.set_major_locator(MaxNLocator(integer=True))\n",
    "    counts, bins, pads = ax[0].hist(t_list, bins=int(np.sqrt(len(t_list))/4), density=False,\n",
    "                                color='green', label='Transition points (x)', alpha=1,\n",
    "                                log=False, rwidth=1)\n",
    "    \n",
    "    # Gaussian fit for transition widths\n",
    "    # Un-normalized gaussian is given multiplying pdf by integral of histogram\n",
    "    par = ss.norm.fit(t_list)\n",
    "    x = np.linspace(min(t_list), max(t_list), 1000)\n",
    "    fit = ss.norm.pdf(x, *par)*len(t_list)*(bins[1]-bins[0])\n",
    "    ax[0].plot(x, fit)\n",
    "    \n",
    "    ax[0].annotate(f\"N entries: {len(t_list)}\\n\"\\\n",
    "                   +\"Fit type: norm\\n\"\\\n",
    "                   +\"Mean: {:.2f}\\n\".format(par[0])\\\n",
    "                   +\"Dev: {:.2f}\".format(par[1]),\n",
    "                   **annotation_kwargs)\n",
    "    \n",
    "    #-----------------------------------------    \n",
    "    # Widths' histogram\n",
    "    ax[1].set_title(\"Widths' histogram\", fontsize=12)\n",
    "    ax[1].tick_params(axis='y', which='minor', width=0)\n",
    "    ax[1].yaxis.set_major_locator(MaxNLocator(integer=True))\n",
    "    counts, bins, pads = ax[1].hist(w_list, bins=int(np.sqrt(len(w_list))/4), density=False,\n",
    "                            color='green', label='Transition points (x)', alpha=1,\n",
    "                            log=False, rwidth=1)\n",
    "    ax[1].set_ylim(1,max(counts))\n",
    "    # Gaussian fit for transition widths\n",
    "    # Un-normalized gaussian is given multiplying pdf by integral of histogram\n",
    "    par = ss.lognorm.fit(w_list)\n",
    "    x = np.linspace(min(w_list), max(w_list), 1000)\n",
    "    fit = ss.lognorm.pdf(x, *par)*len(w_list)*(bins[1]-bins[0])\n",
    "    ax[1].plot(x, fit)\n",
    "    print(*par)\n",
    "    \n",
    "    ax[1].annotate(f\"N entries: {len(w_list)}\\n\"\\\n",
    "                   +\"Fit type: lognorm\\n\"\\\n",
    "                   +\"Mean: {:.2f}\\n\".format(par[2])\\\n",
    "                   +\"Dev: {:.2f}\".format(par[0]),\n",
    "                   **annotation_kwargs)"
   ]
  },
  {
   "cell_type": "code",
   "execution_count": 273,
   "id": "341aa03e-4157-417a-8727-3e73d90b9d37",
   "metadata": {},
   "outputs": [
    {
     "name": "stdout",
     "output_type": "stream",
     "text": [
      "0.2214441273037106 -0.18311445623608408 1.6975366281092232\n"
     ]
    },
    {
     "data": {
      "image/png": "[encoded data removed]",
      "text/plain": [
       "<Figure size 432x288 with 2 Axes>"
      ]
     },
     "metadata": {},
     "output_type": "display_data"
    }
   ],
   "source": [
    "# Histograms of transition points and widths\n",
    "fig, ax = plt.subplots(nrows=1, ncols=2)\n",
    "hist_tw(t_list, w_list, ax)\n",
    "plt.savefig('Hist_tw.pdf')"
   ]
  },
  {
   "cell_type": "code",
   "execution_count": 267,
   "id": "c5795420-d974-474f-9a0e-857d27c9c31f",
   "metadata": {},
   "outputs": [
    {
     "data": {
      "text/plain": [
       "1.474391"
      ]
     },
     "execution_count": 267,
     "metadata": {},
     "output_type": "execute_result"
    }
   ],
   "source": [
    "import statistics as stat\n",
    "stat.mode(w_list)"
   ]
  },
  {
   "cell_type": "markdown",
   "id": "6c42d2ff-78f9-426e-a7b3-f7cb0d789377",
   "metadata": {},
   "source": [
    "## Support cells"
   ]
  }
 ],
 "metadata": {
  "kernelspec": {
   "display_name": "oop",
   "language": "python",
   "name": "oop"
  },
  "language_info": {
   "codemirror_mode": {
    "name": "ipython",
    "version": 3
   },
   "file_extension": ".py",
   "mimetype": "text/x-python",
   "name": "python",
   "nbconvert_exporter": "python",
   "pygments_lexer": "ipython3",
   "version": "3.9.7"
  }
 },
 "nbformat": 4,
 "nbformat_minor": 5
}
