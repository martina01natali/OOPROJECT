{
 "cells": [
  {
   "cell_type": "markdown",
   "id": "93c1912a-165e-43b1-bcd6-3418d3ebd1c6",
   "metadata": {},
   "source": [
    "# TEST claro_class.py"
   ]
  },
  {
   "cell_type": "code",
   "execution_count": 1,
   "id": "b153e049-f88d-461b-9739-147ddd1ac3c0",
   "metadata": {},
   "outputs": [],
   "source": [
    "from claro_class import *"
   ]
  },
  {
   "cell_type": "markdown",
   "id": "a79a0da1-9763-47cf-ab71-d57b0cd069b8",
   "metadata": {},
   "source": [
    "## Testing complete routine in Claro class"
   ]
  },
  {
   "cell_type": "code",
   "execution_count": 2,
   "id": "c2f6102b-b482-41cb-964c-f59cff145ee3",
   "metadata": {},
   "outputs": [],
   "source": [
    "TDIR = 'C:\\\\Users\\\\MARTINA\\\\Desktop\\\\secondolotto_1\\\\'\n",
    "PARAMS = {\n",
    "    \"DIRPATH\"  : \"*Station_1__*\\Station_1__??_Summary\\Chip_???\\S_curve\",\n",
    "    \"FILEPATH\" : \"Ch_*_offset_*_Chip_*.txt\",\n",
    "    \"OUTFILE\"  : \"claro_files.txt\",\n",
    "    \"OUTBAD\"   : \"bad_files.txt\",\n",
    "}"
   ]
  },
  {
   "cell_type": "code",
   "execution_count": 11,
   "id": "f8fa0630-5b36-4866-ac7a-fe1d1040ea2d",
   "metadata": {},
   "outputs": [],
   "source": [
    "new = Claro(TDIR=TDIR, params=PARAMS, custom_n_files=100, log=False)"
   ]
  },
  {
   "cell_type": "code",
   "execution_count": 12,
   "id": "a376997e-df8b-499d-b73a-18a1133f25cc",
   "metadata": {},
   "outputs": [
    {
     "name": "stdout",
     "output_type": "stream",
     "text": [
      "Processing file n. 100... in: C:\\Users\\MARTINA\\Desktop\\secondolotto_1\\Station_1__11\\Station_1__11_Summary\\Chip_012\\S_curve\\Ch_2_offset_0_Chip_012.txt. First word: error. Going on...\n",
      "\n",
      "Process completed in 10.96 s.\n",
      "\n",
      "Total number of files found: 100.\n",
      "Total number of good files: 98. Output paths to good files are stored in claro_files.txt\n",
      "Total number of bad files: 2 (2.0%) out of total). Output paths to bad files are stored in bad_files.txt\n"
     ]
    }
   ],
   "source": [
    "new.get_fileinfos()"
   ]
  },
  {
   "cell_type": "code",
   "execution_count": 5,
   "id": "c765a685-a43d-4bba-a730-4de0c6714a4b",
   "metadata": {},
   "outputs": [],
   "source": [
    "# Single.fit_erf(): (guesses:list='default', interactive=True, log=False, warnings_ignore=True, npoints=1000).\n",
    "# Single.plot(): (npoints=1000, interactive=False, log=True, show_scatter=True, show_fit=True, show_transition=True, save=False, save_path='.\\plot', save_format='pdf', show=True, **kwargs)."
   ]
  },
  {
   "cell_type": "code",
   "execution_count": 13,
   "id": "45d219bb-4c88-4f25-9d5e-219f9c8a1d8d",
   "metadata": {},
   "outputs": [],
   "source": [
    "fit_dict = {'interactive' : False}\n",
    "newdict = new.analysis_loop(fit_dict)"
   ]
  },
  {
   "cell_type": "code",
   "execution_count": 14,
   "id": "b0e052a6-2e54-4274-9048-fc2b3c8b73d1",
   "metadata": {},
   "outputs": [],
   "source": [
    "plot_dict = {'save' : True, 'save_dir':'.\\Plot_loop\\\\'}\n",
    "new.plot_loop(fit_dict, plot_dict)"
   ]
  },
  {
   "cell_type": "code",
   "execution_count": 15,
   "id": "3eae2c99-8019-4f07-b294-60ad971291c8",
   "metadata": {},
   "outputs": [
    {
     "name": "stdin",
     "output_type": "stream",
     "text": [
      "How many plots do you want per page? Allowed values are 1,2,3,4,6.  6\n"
     ]
    },
    {
     "name": "stdout",
     "output_type": "stream",
     "text": [
      "Process completed. Output file: aHundredPlots.pdf\n"
     ]
    }
   ],
   "source": [
    "new.plot_MultiPage(save=True,)"
   ]
  },
  {
   "cell_type": "code",
   "execution_count": 17,
   "id": "973b3c0d-d943-424d-a4b5-4b26f2f7ee40",
   "metadata": {},
   "outputs": [
    {
     "ename": "RuntimeError",
     "evalue": "Optimal parameters not found: The maximum number of function evaluations is exceeded.",
     "output_type": "error",
     "traceback": [
      "\u001b[1;31m---------------------------------------------------------------------------\u001b[0m",
      "\u001b[1;31mRuntimeError\u001b[0m                              Traceback (most recent call last)",
      "\u001b[1;32m~\\AppData\\Local\\Temp/ipykernel_14388/1050214023.py\u001b[0m in \u001b[0;36m<module>\u001b[1;34m\u001b[0m\n\u001b[0;32m      1\u001b[0m \u001b[0mfig\u001b[0m\u001b[1;33m,\u001b[0m \u001b[0max\u001b[0m \u001b[1;33m=\u001b[0m \u001b[0mplt\u001b[0m\u001b[1;33m.\u001b[0m\u001b[0msubplots\u001b[0m\u001b[1;33m(\u001b[0m\u001b[1;36m1\u001b[0m\u001b[1;33m,\u001b[0m\u001b[1;36m2\u001b[0m\u001b[1;33m)\u001b[0m\u001b[1;33m\u001b[0m\u001b[1;33m\u001b[0m\u001b[0m\n\u001b[1;32m----> 2\u001b[1;33m \u001b[0mnew\u001b[0m\u001b[1;33m.\u001b[0m\u001b[0mhist_tw\u001b[0m\u001b[1;33m(\u001b[0m\u001b[0max\u001b[0m\u001b[1;33m=\u001b[0m\u001b[0max\u001b[0m\u001b[1;33m,\u001b[0m \u001b[0msource\u001b[0m\u001b[1;33m=\u001b[0m\u001b[1;34m'fit'\u001b[0m\u001b[1;33m)\u001b[0m\u001b[1;33m\u001b[0m\u001b[1;33m\u001b[0m\u001b[0m\n\u001b[0m",
      "\u001b[1;32m~\\Desktop\\OOPROJECT\\pyproj\\branch_claro_CLOSED\\Def\\claro_class.py\u001b[0m in \u001b[0;36mhist_tw\u001b[1;34m(self, ax, source)\u001b[0m\n\u001b[0;32m    515\u001b[0m         \u001b[0mpopt\u001b[0m\u001b[1;33m,\u001b[0m \u001b[0mpcov\u001b[0m \u001b[1;33m=\u001b[0m \u001b[0mcurve_fit\u001b[0m\u001b[1;33m(\u001b[0m\u001b[0mClaro\u001b[0m\u001b[1;33m.\u001b[0m\u001b[0mgauss\u001b[0m\u001b[1;33m,\u001b[0m \u001b[0mbins\u001b[0m\u001b[1;33m[\u001b[0m\u001b[1;33m:\u001b[0m\u001b[1;33m-\u001b[0m\u001b[1;36m1\u001b[0m\u001b[1;33m]\u001b[0m\u001b[1;33m,\u001b[0m \u001b[0mcounts\u001b[0m\u001b[1;33m,\u001b[0m \u001b[0mbounds\u001b[0m\u001b[1;33m=\u001b[0m\u001b[0mfit_bounds\u001b[0m\u001b[1;33m,\u001b[0m \u001b[0mmaxfev\u001b[0m\u001b[1;33m=\u001b[0m\u001b[1;36m1000\u001b[0m\u001b[1;33m)\u001b[0m\u001b[1;33m\u001b[0m\u001b[1;33m\u001b[0m\u001b[0m\n\u001b[0;32m    516\u001b[0m         \u001b[0mpdev\u001b[0m \u001b[1;33m=\u001b[0m \u001b[0mnp\u001b[0m\u001b[1;33m.\u001b[0m\u001b[0msqrt\u001b[0m\u001b[1;33m(\u001b[0m\u001b[0mnp\u001b[0m\u001b[1;33m.\u001b[0m\u001b[0mdiag\u001b[0m\u001b[1;33m(\u001b[0m\u001b[0mpcov\u001b[0m\u001b[1;33m)\u001b[0m\u001b[1;33m)\u001b[0m\u001b[1;33m\u001b[0m\u001b[1;33m\u001b[0m\u001b[0m\n\u001b[1;32m--> 517\u001b[1;33m         \u001b[0mA\u001b[0m\u001b[1;33m,\u001b[0m \u001b[0mmean\u001b[0m\u001b[1;33m,\u001b[0m \u001b[0mdev\u001b[0m \u001b[1;33m=\u001b[0m \u001b[0mpopt\u001b[0m\u001b[1;33m[\u001b[0m\u001b[1;36m0\u001b[0m\u001b[1;33m]\u001b[0m\u001b[1;33m,\u001b[0m \u001b[0mpopt\u001b[0m\u001b[1;33m[\u001b[0m\u001b[1;36m1\u001b[0m\u001b[1;33m]\u001b[0m\u001b[1;33m,\u001b[0m \u001b[0mpopt\u001b[0m\u001b[1;33m[\u001b[0m\u001b[1;36m2\u001b[0m\u001b[1;33m]\u001b[0m\u001b[1;33m\u001b[0m\u001b[1;33m\u001b[0m\u001b[0m\n\u001b[0m\u001b[0;32m    518\u001b[0m         \u001b[0mx\u001b[0m \u001b[1;33m=\u001b[0m \u001b[0mnp\u001b[0m\u001b[1;33m.\u001b[0m\u001b[0mlinspace\u001b[0m\u001b[1;33m(\u001b[0m\u001b[0mmin\u001b[0m\u001b[1;33m(\u001b[0m\u001b[0mt_list\u001b[0m\u001b[1;33m)\u001b[0m\u001b[1;33m,\u001b[0m \u001b[0mmax\u001b[0m\u001b[1;33m(\u001b[0m\u001b[0mt_list\u001b[0m\u001b[1;33m)\u001b[0m\u001b[1;33m,\u001b[0m \u001b[1;36m1000\u001b[0m\u001b[1;33m)\u001b[0m\u001b[1;33m\u001b[0m\u001b[1;33m\u001b[0m\u001b[0m\n\u001b[0;32m    519\u001b[0m         \u001b[0mfit\u001b[0m \u001b[1;33m=\u001b[0m \u001b[0mClaro\u001b[0m\u001b[1;33m.\u001b[0m\u001b[0mgauss\u001b[0m\u001b[1;33m(\u001b[0m\u001b[0mx\u001b[0m\u001b[1;33m,\u001b[0m \u001b[0mA\u001b[0m\u001b[1;33m,\u001b[0m \u001b[0mmean\u001b[0m\u001b[1;33m,\u001b[0m \u001b[0mdev\u001b[0m\u001b[1;33m)\u001b[0m\u001b[1;33m\u001b[0m\u001b[1;33m\u001b[0m\u001b[0m\n",
      "\u001b[1;32mC:\\Anaconda3\\envs\\oop\\lib\\site-packages\\scipy\\optimize\\minpack.py\u001b[0m in \u001b[0;36mcurve_fit\u001b[1;34m(f, xdata, ydata, p0, sigma, absolute_sigma, check_finite, bounds, method, jac, **kwargs)\u001b[0m\n\u001b[0;32m    802\u001b[0m \u001b[1;33m\u001b[0m\u001b[0m\n\u001b[0;32m    803\u001b[0m         \u001b[1;32mif\u001b[0m \u001b[1;32mnot\u001b[0m \u001b[0mres\u001b[0m\u001b[1;33m.\u001b[0m\u001b[0msuccess\u001b[0m\u001b[1;33m:\u001b[0m\u001b[1;33m\u001b[0m\u001b[1;33m\u001b[0m\u001b[0m\n\u001b[1;32m--> 804\u001b[1;33m             \u001b[1;32mraise\u001b[0m \u001b[0mRuntimeError\u001b[0m\u001b[1;33m(\u001b[0m\u001b[1;34m\"Optimal parameters not found: \"\u001b[0m \u001b[1;33m+\u001b[0m \u001b[0mres\u001b[0m\u001b[1;33m.\u001b[0m\u001b[0mmessage\u001b[0m\u001b[1;33m)\u001b[0m\u001b[1;33m\u001b[0m\u001b[1;33m\u001b[0m\u001b[0m\n\u001b[0m\u001b[0;32m    805\u001b[0m \u001b[1;33m\u001b[0m\u001b[0m\n\u001b[0;32m    806\u001b[0m         \u001b[0mysize\u001b[0m \u001b[1;33m=\u001b[0m \u001b[0mlen\u001b[0m\u001b[1;33m(\u001b[0m\u001b[0mres\u001b[0m\u001b[1;33m.\u001b[0m\u001b[0mfun\u001b[0m\u001b[1;33m)\u001b[0m\u001b[1;33m\u001b[0m\u001b[1;33m\u001b[0m\u001b[0m\n",
      "\u001b[1;31mRuntimeError\u001b[0m: Optimal parameters not found: The maximum number of function evaluations is exceeded."
     ]
    },
    {
     "data": {
      "image/png": "[encoded data removed]",
      "text/plain": [
       "<Figure size 432x288 with 2 Axes>"
      ]
     },
     "metadata": {},
     "output_type": "display_data"
    }
   ],
   "source": [
    "fig, ax = plt.subplots(1,2)\n",
    "new.hist_tw(ax=ax, source='fit')"
   ]
  },
  {
   "cell_type": "markdown",
   "id": "c9b73c9a-87bf-482a-bcee-3325c80802e5",
   "metadata": {},
   "source": [
    "## Testing sub-routine for Single class"
   ]
  },
  {
   "cell_type": "raw",
   "id": "9c1c2e0c-7620-4c0d-b115-6bc244cda560",
   "metadata": {},
   "source": [
    "# Get path of a single ampli to build Single() object\n",
    "single_dict = Claro.find_fileinfos(new.fileinfos,chip='001',ch='0')"
   ]
  },
  {
   "cell_type": "raw",
   "id": "7cad50e8-3282-4ce4-b212-3dd658e6e8a4",
   "metadata": {},
   "source": [
    "Claro.find_fileinfos(new.fileinfos, path=single_dict['path'])"
   ]
  },
  {
   "cell_type": "raw",
   "id": "1435fcd9-47ae-4875-8f60-bec8cfa0a338",
   "metadata": {},
   "source": [
    "single = Single(single_dict)"
   ]
  },
  {
   "cell_type": "raw",
   "id": "b46eb037-7c92-4461-861f-53bb829eda02",
   "metadata": {},
   "source": [
    "print(single)"
   ]
  },
  {
   "cell_type": "raw",
   "id": "6a81c602-08a6-4187-81a9-2b222f914212",
   "metadata": {},
   "source": [
    "single.fit_erf()"
   ]
  },
  {
   "cell_type": "markdown",
   "id": "f64908f5-b43c-43a7-b48a-92ca4fc52b57",
   "metadata": {},
   "source": [
    "###### fig = plt.figure(figsize=(5,5))\n",
    "single.plot()"
   ]
  }
 ],
 "metadata": {
  "kernelspec": {
   "display_name": "oop",
   "language": "python",
   "name": "oop"
  },
  "language_info": {
   "codemirror_mode": {
    "name": "ipython",
    "version": 3
   },
   "file_extension": ".py",
   "mimetype": "text/x-python",
   "name": "python",
   "nbconvert_exporter": "python",
   "pygments_lexer": "ipython3",
   "version": "3.9.7"
  }
 },
 "nbformat": 4,
 "nbformat_minor": 5
}
