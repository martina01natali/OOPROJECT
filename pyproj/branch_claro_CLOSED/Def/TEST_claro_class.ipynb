{
 "cells": [
  {
   "cell_type": "markdown",
   "id": "93c1912a-165e-43b1-bcd6-3418d3ebd1c6",
   "metadata": {},
   "source": [
    "# TEST claro_class.py"
   ]
  },
  {
   "cell_type": "code",
   "execution_count": 1,
   "id": "b153e049-f88d-461b-9739-147ddd1ac3c0",
   "metadata": {},
   "outputs": [],
   "source": [
    "from claro_class import *"
   ]
  },
  {
   "cell_type": "code",
   "execution_count": 2,
   "id": "c2f6102b-b482-41cb-964c-f59cff145ee3",
   "metadata": {},
   "outputs": [],
   "source": [
    "TDIR = 'C:\\\\Users\\\\MARTINA\\\\Desktop\\\\secondolotto_1\\\\'\n",
    "PARAMS = {\n",
    "    \"DIRPATH\"  : \"*Station_1__*\\Station_1__??_Summary\\Chip_???\\S_curve\",\n",
    "    \"FILEPATH\" : \"Ch_*_offset_*_Chip_*.txt\",\n",
    "    \"OUTFILE\"  : \"claro_files.txt\",\n",
    "    \"OUTBAD\"   : \"bad_files.txt\",\n",
    "}"
   ]
  },
  {
   "cell_type": "code",
   "execution_count": 3,
   "id": "f8fa0630-5b36-4866-ac7a-fe1d1040ea2d",
   "metadata": {},
   "outputs": [],
   "source": [
    "new = Claro(TDIR=TDIR, params=PARAMS, custom_n_files=100, log=False)"
   ]
  },
  {
   "cell_type": "code",
   "execution_count": 4,
   "id": "dcd7c44b-3609-4526-b2a9-2026793cd6c9",
   "metadata": {},
   "outputs": [
    {
     "data": {
      "text/plain": [
       "100"
      ]
     },
     "execution_count": 4,
     "metadata": {},
     "output_type": "execute_result"
    }
   ],
   "source": [
    "new.custom_n_files"
   ]
  },
  {
   "cell_type": "code",
   "execution_count": 5,
   "id": "459a86fd-f30c-4ce2-8ac8-b751f334b3d2",
   "metadata": {},
   "outputs": [
    {
     "name": "stdout",
     "output_type": "stream",
     "text": [
      "top dir:   C:\\Users\\MARTINA\\Desktop\\secondolotto_1\\\n",
      "params:    {'DIRPATH': '*Station_1__*\\\\Station_1__??_Summary\\\\Chip_???\\\\S_curve', 'FILEPATH': 'Ch_*_offset_*_Chip_*.txt', 'OUTFILE': 'claro_files.txt', 'OUTBAD': 'bad_files.txt'}\n",
      "meta:      {}\n",
      "\n"
     ]
    }
   ],
   "source": [
    "print(new)"
   ]
  },
  {
   "cell_type": "code",
   "execution_count": 14,
   "id": "a376997e-df8b-499d-b73a-18a1133f25cc",
   "metadata": {},
   "outputs": [
    {
     "name": "stdin",
     "output_type": "stream",
     "text": [
      "The default subfolders' paths are *Station_1__*\\Station_1__??_Summary\\Chip_???\\S_curve.\n",
      "The default file names are Ch_*_offset_*_Chip_*.txt.\n",
      "To confirm, press Enter. Press any other key to change the paths.\n",
      " \n"
     ]
    },
    {
     "name": "stdout",
     "output_type": "stream",
     "text": [
      "Processing file n. 100... in: C:\\Users\\MARTINA\\Desktop\\secondolotto_1\\Station_1__11\\Station_1__11_Summary\\Chip_012\\S_curve\\Ch_2_offset_0_Chip_012.txt. First word: error. Going on...\n",
      "\n",
      "Process completed in 25.85 s.\n",
      "\n",
      "Total number of files found: 100.\n",
      "Total number of good files: 98. Output paths to good files are stored in claro_files.txt\n",
      "Total number of bad files: 2 (2.0%) out of total). Output paths to bad files are stored in bad_files.txt\n"
     ]
    }
   ],
   "source": [
    "new.get_fileinfos()"
   ]
  },
  {
   "cell_type": "code",
   "execution_count": 15,
   "id": "eec38d06-6eac-4e88-af0a-637047ba8e6d",
   "metadata": {},
   "outputs": [],
   "source": [
    "# Get path of a single apli to build Single() object\n",
    "single_dict = Claro.find_fileinfos(new.fileinfos,chip='001',ch='0')"
   ]
  },
  {
   "cell_type": "code",
   "execution_count": 16,
   "id": "53f32a88-f125-4a81-8a71-5791f847356b",
   "metadata": {},
   "outputs": [
    {
     "data": {
      "text/plain": [
       "'C:\\\\Users\\\\MARTINA\\\\Desktop\\\\secondolotto_1\\\\Station_1__11\\\\Station_1__11_Summary\\\\Chip_001\\\\S_curve\\\\Ch_0_offset_0_Chip_001.txt'"
      ]
     },
     "execution_count": 16,
     "metadata": {},
     "output_type": "execute_result"
    }
   ],
   "source": [
    "single_dict['path']"
   ]
  },
  {
   "cell_type": "code",
   "execution_count": 17,
   "id": "5cacac1b-d458-4d5c-9022-50fcd4876dc1",
   "metadata": {},
   "outputs": [
    {
     "data": {
      "text/plain": [
       "{'path': 'C:\\\\Users\\\\MARTINA\\\\Desktop\\\\secondolotto_1\\\\Station_1__11\\\\Station_1__11_Summary\\\\Chip_001\\\\S_curve\\\\Ch_0_offset_0_Chip_001.txt',\n",
       " 'station': '1',\n",
       " 'sub': '11',\n",
       " 'chip': '001',\n",
       " 'ch': '0',\n",
       " 'offset': '0',\n",
       " 'amplitude': 1000.767211,\n",
       " 'transition': 161.272238,\n",
       " 'width': -1.923543}"
      ]
     },
     "execution_count": 17,
     "metadata": {},
     "output_type": "execute_result"
    }
   ],
   "source": [
    "Claro.find_fileinfos(new.fileinfos, path=single_dict['path'])"
   ]
  },
  {
   "cell_type": "code",
   "execution_count": 18,
   "id": "758ca65c-8499-4d96-aad8-7350e7c7b69b",
   "metadata": {},
   "outputs": [],
   "source": [
    "single = Single(single_dict['path'], single_dict)"
   ]
  },
  {
   "cell_type": "code",
   "execution_count": 19,
   "id": "870049d5-753b-4e40-82f8-832c65f40350",
   "metadata": {},
   "outputs": [
    {
     "name": "stdout",
     "output_type": "stream",
     "text": [
      "path                      C:\\Users\\MARTINA\\Desktop\\secondolotto_1\\Station_1__11\\Station_1__11_Summary\\Chip_001\\S_curve\\Ch_0_offset_0_Chip_001.txt\n",
      "amplitude                 1000.767211              \n",
      "transition                161.272238               \n",
      "width                     1.923543                 \n",
      "x data: [148. 153. 157. 160. 162. 164. 167. 171.]\n",
      "y data: [0.000e+00 0.000e+00 1.000e+00 9.300e+01 7.760e+02 9.980e+02 1.001e+03\n",
      " 1.001e+03]\n",
      "fit_guess: [1000.767211, 161.272238, 500.3836055]\n"
     ]
    }
   ],
   "source": [
    "print(single)"
   ]
  },
  {
   "cell_type": "code",
   "execution_count": 20,
   "id": "62f2ab55-0441-4402-8a1f-a4e85e802166",
   "metadata": {},
   "outputs": [
    {
     "name": "stdout",
     "output_type": "stream",
     "text": [
      "Fit ok!\n"
     ]
    }
   ],
   "source": [
    "single.fit_erf()"
   ]
  },
  {
   "cell_type": "code",
   "execution_count": 21,
   "id": "d0e9fa0e-5279-41e2-a03f-cfed9249b86b",
   "metadata": {},
   "outputs": [
    {
     "data": {
      "text/plain": [
       "{'params': [1000.7672107735508, 161.27223798859328, 0.9617712507189056],\n",
       " 'errors': [0.30185577356814697, 0.001606001307571349, 0.0016729050283423642],\n",
       " 'code': 'good'}"
      ]
     },
     "execution_count": 21,
     "metadata": {},
     "output_type": "execute_result"
    }
   ],
   "source": [
    "single.fit_params"
   ]
  },
  {
   "cell_type": "code",
   "execution_count": 23,
   "id": "2cae218a-3bb3-4aa8-913e-42edef237b1b",
   "metadata": {},
   "outputs": [
    {
     "data": {
      "image/png": "[encoded data removed]",
      "text/plain": [
       "<Figure size 360x360 with 1 Axes>"
      ]
     },
     "metadata": {},
     "output_type": "display_data"
    }
   ],
   "source": [
    "fig = plt.figure(figsize=(5,5))\n",
    "single.plot_fit()"
   ]
  },
  {
   "cell_type": "code",
   "execution_count": null,
   "id": "19a953a0-f10d-4200-9654-df2ed8b956df",
   "metadata": {},
   "outputs": [],
   "source": [
    "path = 'C:\\\\Users\\\\MARTINA\\\\Desktop\\\\secondolotto_1\\\\Station_1__11\\\\Station_1__11_Summary\\\\Chip_002\\\\S_curve\\\\Ch_1_offset_0_Chip_002.txt'\n",
    "\n",
    "single_bad = Single(path=path)"
   ]
  },
  {
   "cell_type": "code",
   "execution_count": null,
   "id": "c302fbc3-4012-4329-a363-4b322a4540b1",
   "metadata": {},
   "outputs": [],
   "source": [
    "print(single_bad)"
   ]
  },
  {
   "cell_type": "code",
   "execution_count": null,
   "id": "cf6436de-643f-4c33-b539-7d4a7dccb0cf",
   "metadata": {},
   "outputs": [],
   "source": [
    "guesses = [1000, 150, 500]\n",
    "single_bad.fit_erf(guesses=guesses)"
   ]
  }
 ],
 "metadata": {
  "kernelspec": {
   "display_name": "oop",
   "language": "python",
   "name": "oop"
  },
  "language_info": {
   "codemirror_mode": {
    "name": "ipython",
    "version": 3
   },
   "file_extension": ".py",
   "mimetype": "text/x-python",
   "name": "python",
   "nbconvert_exporter": "python",
   "pygments_lexer": "ipython3",
   "version": "3.9.7"
  }
 },
 "nbformat": 4,
 "nbformat_minor": 5
}
