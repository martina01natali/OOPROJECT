{
 "cells": [
  {
   "cell_type": "markdown",
   "id": "93c1912a-165e-43b1-bcd6-3418d3ebd1c6",
   "metadata": {},
   "source": [
    "# TEST claro_class.py"
   ]
  },
  {
   "cell_type": "code",
   "execution_count": null,
   "id": "79663716-d0f8-4865-bbb2-1ae9967dd69e",
   "metadata": {},
   "outputs": [],
   "source": [
    "from projmodule.claro_class import Claro, Single"
   ]
  },
  {
   "cell_type": "markdown",
   "id": "a79a0da1-9763-47cf-ab71-d57b0cd069b8",
   "metadata": {},
   "source": [
    "## Testing complete routine in Claro class"
   ]
  },
  {
   "cell_type": "code",
   "execution_count": null,
   "id": "c2f6102b-b482-41cb-964c-f59cff145ee3",
   "metadata": {},
   "outputs": [],
   "source": [
    "# Define parameters to build Claro object\n",
    "TDIR = 'C:\\\\Users\\\\MARTINA\\\\Desktop\\\\secondolotto_1\\\\'\n",
    "PARAMS = {\n",
    "    \"DIRPATH\"  : \"*Station_1__*\\Station_1__??_Summary\\Chip_???\\S_curve\",\n",
    "    \"FILEPATH\" : \"Ch_*_offset_*_Chip_*.txt\",\n",
    "    \"OUTFILE\"  : \"claro_files.txt\",\n",
    "    \"OUTBAD\"   : \"bad_files.txt\",\n",
    "    \"UNFIT\"    : \"unfit_files.txt\",\n",
    "}"
   ]
  },
  {
   "cell_type": "code",
   "execution_count": null,
   "id": "f8fa0630-5b36-4866-ac7a-fe1d1040ea2d",
   "metadata": {},
   "outputs": [],
   "source": [
    "new = Claro(TDIR=TDIR, params=PARAMS, custom_n_files=100, log=True)"
   ]
  },
  {
   "cell_type": "code",
   "execution_count": null,
   "id": "4d3dc148-1f0d-454a-ab5f-439bb916b266",
   "metadata": {},
   "outputs": [],
   "source": [
    "print(new)"
   ]
  },
  {
   "cell_type": "code",
   "execution_count": null,
   "id": "c1c9dbda-be9c-40af-9d1d-7c88e5d392b7",
   "metadata": {},
   "outputs": [],
   "source": [
    "new.tdir # @property method, tdir is ._tdir"
   ]
  },
  {
   "cell_type": "code",
   "execution_count": null,
   "id": "a376997e-df8b-499d-b73a-18a1133f25cc",
   "metadata": {},
   "outputs": [],
   "source": [
    "# Method to produce dict with info about files with given PARAMS and TDIR\n",
    "new.get_fileinfos()"
   ]
  },
  {
   "cell_type": "code",
   "execution_count": null,
   "id": "c2644267-9434-4440-bf10-1c66878ff31f",
   "metadata": {},
   "outputs": [],
   "source": [
    "# Method to find dict of a single amplifier...\n",
    "file1_11_001_7 = Claro.find_fileinfos(new.fileinfos, station=\"1\", sub=\"11\", chip=\"001\", ch=\"7\")\n",
    "file1_11_001_7"
   ]
  },
  {
   "cell_type": "code",
   "execution_count": null,
   "id": "d1fd7ce9-1e2f-4195-980e-225962c714c6",
   "metadata": {},
   "outputs": [],
   "source": [
    "# ...that works with a path as well\n",
    "Claro.find_fileinfos(new.fileinfos, path=file1_11_001_7['path'])"
   ]
  },
  {
   "cell_type": "code",
   "execution_count": null,
   "id": "a8c40eee-1dd6-4bc0-b3df-64f29dbdbccf",
   "metadata": {},
   "outputs": [],
   "source": [
    "# We have the list of good files (that are the files in new.fileinfos)...\n",
    "for n, file in enumerate(new.good_files):\n",
    "    if n<3: print(file)\n",
    "print(\"...\")"
   ]
  },
  {
   "cell_type": "code",
   "execution_count": null,
   "id": "2afb3a83-1290-4a88-a093-9772640dc18b",
   "metadata": {},
   "outputs": [],
   "source": [
    "# ... and the list of bad files...\n",
    "for n, file in enumerate(new.bad_files):\n",
    "    if n<3: print(file)\n",
    "print(\"...\")"
   ]
  },
  {
   "cell_type": "code",
   "execution_count": null,
   "id": "b3466b73-b6c3-409a-b0f1-eec2e68ed0ab",
   "metadata": {},
   "outputs": [],
   "source": [
    "# Method to analyze (fit with erf function) all files in fileinfos in a loop\n",
    "# This method is based on the method to fit one single file defined in class Single, Single.fit_erf()\n",
    "# self.unfit_files is a list that is automatically produced\n",
    "fit_dict = {'guesses':'default', # Fits with guesses = [amplitude, transition, width]\n",
    "            'interactive' : False, # If True prints \"Fit ok!\" or prints errors and warnings\n",
    "           }\n",
    "newdict = new.analysis_loop(fit_dict)"
   ]
  },
  {
   "cell_type": "code",
   "execution_count": null,
   "id": "39bf2beb-0b60-47b5-a262-a13f5e435faf",
   "metadata": {},
   "outputs": [],
   "source": [
    "# ... and the list of unfitted files, that can be printed on file via .print_log()\n",
    "for n, file in enumerate(new.unfit_files):\n",
    "    if n<3: print(file)\n",
    "print(\"...\")"
   ]
  },
  {
   "cell_type": "code",
   "execution_count": null,
   "id": "9b49fbca-720c-46fb-b18a-49dd160f435e",
   "metadata": {},
   "outputs": [],
   "source": [
    "# Method to print files with lists of good, bad, unfit files\n",
    "# The previously produced files are overwritten at every run\n",
    "new.print_log(good_files=True, bad_files=True, unfit_files=True)"
   ]
  },
  {
   "cell_type": "code",
   "execution_count": null,
   "id": "30ec3de8-bde2-475c-8e32-ad9f66ad3ece",
   "metadata": {},
   "outputs": [],
   "source": [
    "# Method to plot scatterplot and fit of files in a loop\n",
    "# This method is based on the method to plot one single file defined in class Single, Single.plot()  \n",
    "plot_dict = {'npoints':1000,\n",
    "             'interactive':False, # If True prints eventual errors due to the fit parameters\n",
    "             'show_scatter':True,\n",
    "             'show_fit':True,\n",
    "             'show_transition':True,\n",
    "             'save' : False,\n",
    "             'save_dir':'.\\Plot_loop\\\\',\n",
    "             'save_format':'pdf',\n",
    "            }\n",
    "new.plot_loop(fit_dict, plot_dict, show=True)"
   ]
  },
  {
   "cell_type": "code",
   "execution_count": null,
   "id": "5cee4d9b-1782-48c6-bd4d-96d6ad2f8bbb",
   "metadata": {},
   "outputs": [],
   "source": [
    "# Method to plot scatterplot and fit of the data on a multi-page pdf, with user-defined number of plots per page\n",
    "# This method is based on Single.fit_erf and Single.plot and accepts dicts with parameters to pass to those functions\n",
    "new.plot_MultiPage(fit_dict, plot_dict, save=True, save_path='aHundredPlots.pdf')"
   ]
  },
  {
   "cell_type": "code",
   "execution_count": null,
   "id": "973b3c0d-d943-424d-a4b5-4b26f2f7ee40",
   "metadata": {},
   "outputs": [],
   "source": [
    "# Method to plot histograms of transition points (x values) and widths\n",
    "# You can plot values from datafile or from fit or the difference between the two\n",
    "# This method requires external figure and saving options\n",
    "fig, ax = plt.subplots(1,2, figsize=(10,5))\n",
    "new.hist_tw(ax=ax, source='file')\n",
    "#plt.savefig(\"hist_tw-fromFile.pdf\")"
   ]
  },
  {
   "cell_type": "code",
   "execution_count": null,
   "id": "9a57f10f-7e16-482e-9a50-d6fc113a93d7",
   "metadata": {},
   "outputs": [],
   "source": [
    "fig, ax = plt.subplots(1,2, figsize=(10,5))\n",
    "new.hist_tw(ax=ax, source='fit')\n",
    "plt.savefig(\"hist_tw-fromFit.pdf\")"
   ]
  },
  {
   "cell_type": "code",
   "execution_count": null,
   "id": "d5fab956-2410-411f-b84f-8483a8306a27",
   "metadata": {},
   "outputs": [],
   "source": [
    "fig, ax = plt.subplots(1,2, figsize=(10,5))\n",
    "new.hist_tw(ax=ax, source='diff')\n",
    "plt.savefig(\"hist_tw-Diffs.pdf\")"
   ]
  },
  {
   "cell_type": "markdown",
   "id": "c9b73c9a-87bf-482a-bcee-3325c80802e5",
   "metadata": {},
   "source": [
    "## Testing sub-routine for Single class"
   ]
  },
  {
   "cell_type": "raw",
   "id": "9c1c2e0c-7620-4c0d-b115-6bc244cda560",
   "metadata": {},
   "source": [
    "# Get path of a single ampli to build Single() object\n",
    "single_dict = Claro.find_fileinfos(new.fileinfos,chip='001',ch='0')"
   ]
  },
  {
   "cell_type": "raw",
   "id": "7cad50e8-3282-4ce4-b212-3dd658e6e8a4",
   "metadata": {},
   "source": [
    "Claro.find_fileinfos(new.fileinfos, path=single_dict['path'])"
   ]
  },
  {
   "cell_type": "raw",
   "id": "1435fcd9-47ae-4875-8f60-bec8cfa0a338",
   "metadata": {},
   "source": [
    "single = Single(single_dict)"
   ]
  },
  {
   "cell_type": "raw",
   "id": "b46eb037-7c92-4461-861f-53bb829eda02",
   "metadata": {},
   "source": [
    "print(single)"
   ]
  },
  {
   "cell_type": "raw",
   "id": "6a81c602-08a6-4187-81a9-2b222f914212",
   "metadata": {},
   "source": [
    "single.fit_erf()"
   ]
  },
  {
   "cell_type": "raw",
   "id": "57c71726-6cc7-4a28-a131-2be046264e62",
   "metadata": {},
   "source": [
    "fig = plt.figure(figsize=(5,5))\n",
    "single.plot()"
   ]
  }
 ],
 "metadata": {
  "kernelspec": {
   "display_name": "oop",
   "language": "python",
   "name": "oop"
  },
  "language_info": {
   "codemirror_mode": {
    "name": "ipython",
    "version": 3
   },
   "file_extension": ".py",
   "mimetype": "text/x-python",
   "name": "python",
   "nbconvert_exporter": "python",
   "pygments_lexer": "ipython3",
   "version": "3.9.7"
  }
 },
 "nbformat": 4,
 "nbformat_minor": 5
}
